{
 "cells": [
  {
   "cell_type": "code",
   "execution_count": 16,
   "id": "e90a4746",
   "metadata": {},
   "outputs": [
    {
     "data": {
      "text/html": [
       "<div>\n",
       "<style scoped>\n",
       "    .dataframe tbody tr th:only-of-type {\n",
       "        vertical-align: middle;\n",
       "    }\n",
       "\n",
       "    .dataframe tbody tr th {\n",
       "        vertical-align: top;\n",
       "    }\n",
       "\n",
       "    .dataframe thead th {\n",
       "        text-align: right;\n",
       "    }\n",
       "</style>\n",
       "<table border=\"1\" class=\"dataframe\">\n",
       "  <thead>\n",
       "    <tr style=\"text-align: right;\">\n",
       "      <th></th>\n",
       "      <th>Person No.</th>\n",
       "      <th>Mode</th>\n",
       "      <th>Time</th>\n",
       "      <th>Cost</th>\n",
       "      <th>Choice</th>\n",
       "    </tr>\n",
       "  </thead>\n",
       "  <tbody>\n",
       "    <tr>\n",
       "      <th>0</th>\n",
       "      <td>1</td>\n",
       "      <td>1</td>\n",
       "      <td>15</td>\n",
       "      <td>7.5</td>\n",
       "      <td>1</td>\n",
       "    </tr>\n",
       "    <tr>\n",
       "      <th>1</th>\n",
       "      <td>2</td>\n",
       "      <td>2</td>\n",
       "      <td>15</td>\n",
       "      <td>0.0</td>\n",
       "      <td>1</td>\n",
       "    </tr>\n",
       "    <tr>\n",
       "      <th>2</th>\n",
       "      <td>3</td>\n",
       "      <td>3</td>\n",
       "      <td>7</td>\n",
       "      <td>3.5</td>\n",
       "      <td>1</td>\n",
       "    </tr>\n",
       "    <tr>\n",
       "      <th>3</th>\n",
       "      <td>4</td>\n",
       "      <td>3</td>\n",
       "      <td>20</td>\n",
       "      <td>5.0</td>\n",
       "      <td>1</td>\n",
       "    </tr>\n",
       "    <tr>\n",
       "      <th>4</th>\n",
       "      <td>5</td>\n",
       "      <td>2</td>\n",
       "      <td>12</td>\n",
       "      <td>0.0</td>\n",
       "      <td>1</td>\n",
       "    </tr>\n",
       "  </tbody>\n",
       "</table>\n",
       "</div>"
      ],
      "text/plain": [
       "   Person No.  Mode  Time  Cost  Choice\n",
       "0           1     1    15   7.5       1\n",
       "1           2     2    15   0.0       1\n",
       "2           3     3     7   3.5       1\n",
       "3           4     3    20   5.0       1\n",
       "4           5     2    12   0.0       1"
      ]
     },
     "execution_count": 16,
     "metadata": {},
     "output_type": "execute_result"
    }
   ],
   "source": [
    "import urllib.request\n",
    "import pandas as pd\n",
    "import requests\n",
    "import io\n",
    "import numpy as np\n",
    "import seaborn as sns\n",
    "import statsmodels.api as sm\n",
    "from numpy import mean\n",
    "from numpy import std\n",
    "from sklearn.datasets import make_classification\n",
    "from sklearn.model_selection import cross_val_score\n",
    "from sklearn.model_selection import RepeatedStratifiedKFold\n",
    "from sklearn.linear_model import LogisticRegression\n",
    "from matplotlib import pyplot\n",
    "import pandas as pd\n",
    "import statsmodels.api as sm\n",
    "from scipy import stats\n",
    "\n",
    "hsb2 = pd.read_csv(\"C:\\\\Users\\\\Admin\\\\Desktop\\\\Vaishnavi\\\\Auto\\\\MNL2.csv\")\n",
    "hsb2.head()"
   ]
  },
  {
   "cell_type": "code",
   "execution_count": 17,
   "id": "73b292bb",
   "metadata": {},
   "outputs": [
    {
     "data": {
      "text/plain": [
       "Person No.      int64\n",
       "Mode            int64\n",
       "Time            int64\n",
       "Cost          float64\n",
       "Choice          int64\n",
       "dtype: object"
      ]
     },
     "execution_count": 17,
     "metadata": {},
     "output_type": "execute_result"
    }
   ],
   "source": [
    "hsb2.dtypes\n"
   ]
  },
  {
   "cell_type": "code",
   "execution_count": 27,
   "id": "98220763",
   "metadata": {},
   "outputs": [
    {
     "data": {
      "text/html": [
       "<div>\n",
       "<style scoped>\n",
       "    .dataframe tbody tr th:only-of-type {\n",
       "        vertical-align: middle;\n",
       "    }\n",
       "\n",
       "    .dataframe tbody tr th {\n",
       "        vertical-align: top;\n",
       "    }\n",
       "\n",
       "    .dataframe thead th {\n",
       "        text-align: right;\n",
       "    }\n",
       "</style>\n",
       "<table border=\"1\" class=\"dataframe\">\n",
       "  <thead>\n",
       "    <tr style=\"text-align: right;\">\n",
       "      <th></th>\n",
       "      <th>Person No.</th>\n",
       "      <th>Mode</th>\n",
       "      <th>Time</th>\n",
       "      <th>Cost</th>\n",
       "      <th>Choice</th>\n",
       "    </tr>\n",
       "  </thead>\n",
       "  <tbody>\n",
       "    <tr>\n",
       "      <th>0</th>\n",
       "      <td>1</td>\n",
       "      <td>1</td>\n",
       "      <td>15</td>\n",
       "      <td>7</td>\n",
       "      <td>1</td>\n",
       "    </tr>\n",
       "    <tr>\n",
       "      <th>1</th>\n",
       "      <td>2</td>\n",
       "      <td>2</td>\n",
       "      <td>15</td>\n",
       "      <td>0</td>\n",
       "      <td>1</td>\n",
       "    </tr>\n",
       "    <tr>\n",
       "      <th>2</th>\n",
       "      <td>3</td>\n",
       "      <td>3</td>\n",
       "      <td>7</td>\n",
       "      <td>3</td>\n",
       "      <td>1</td>\n",
       "    </tr>\n",
       "    <tr>\n",
       "      <th>3</th>\n",
       "      <td>4</td>\n",
       "      <td>3</td>\n",
       "      <td>20</td>\n",
       "      <td>5</td>\n",
       "      <td>1</td>\n",
       "    </tr>\n",
       "    <tr>\n",
       "      <th>4</th>\n",
       "      <td>5</td>\n",
       "      <td>2</td>\n",
       "      <td>12</td>\n",
       "      <td>0</td>\n",
       "      <td>1</td>\n",
       "    </tr>\n",
       "  </tbody>\n",
       "</table>\n",
       "</div>"
      ],
      "text/plain": [
       "   Person No.  Mode  Time  Cost  Choice\n",
       "0           1     1    15     7       1\n",
       "1           2     2    15     0       1\n",
       "2           3     3     7     3       1\n",
       "3           4     3    20     5       1\n",
       "4           5     2    12     0       1"
      ]
     },
     "execution_count": 27,
     "metadata": {},
     "output_type": "execute_result"
    }
   ],
   "source": [
    "hsb2[\"Cost\"] = hsb2[\"Cost\"].astype('int64')\n",
    "hsb2.dtypes\n",
    "hsb3 = hsb2\n",
    "hsb3.head()"
   ]
  },
  {
   "cell_type": "code",
   "execution_count": 28,
   "id": "0ad8134f",
   "metadata": {},
   "outputs": [],
   "source": [
    "y = hsb3['Mode']\n",
    "X = hsb3.drop(['Person No.','Mode','Choice'],axis=1)\n"
   ]
  },
  {
   "cell_type": "code",
   "execution_count": 5,
   "id": "67cb60d5",
   "metadata": {},
   "outputs": [
    {
     "name": "stdout",
     "output_type": "stream",
     "text": [
      "    Intercept      Time       Cost\n",
      "1 -188.801879 -3.986434  38.361507\n",
      "2   -0.170464  2.057401 -13.258005\n",
      "3    0.164045 -0.119331   0.201680\n",
      "Chi-square statistic: 0.6172540474445256\n",
      "Degrees of freedom: 2.0\n",
      "p-value: 0.7344546531098254\n"
     ]
    },
    {
     "name": "stderr",
     "output_type": "stream",
     "text": [
      "C:\\Users\\Admin\\anaconda3\\Lib\\site-packages\\statsmodels\\base\\model.py:607: ConvergenceWarning: Maximum Likelihood optimization failed to converge. Check mle_retvals\n",
      "  warnings.warn(\"Maximum Likelihood optimization failed to \"\n",
      "C:\\Users\\Admin\\anaconda3\\Lib\\site-packages\\statsmodels\\discrete\\discrete_model.py:227: PerfectSeparationWarning: Perfect separation or prediction detected, parameter may not be identified\n",
      "  warnings.warn(msg, category=PerfectSeparationWarning)\n",
      "C:\\Users\\Admin\\anaconda3\\Lib\\site-packages\\statsmodels\\discrete\\discrete_model.py:227: PerfectSeparationWarning: Perfect separation or prediction detected, parameter may not be identified\n",
      "  warnings.warn(msg, category=PerfectSeparationWarning)\n",
      "C:\\Users\\Admin\\anaconda3\\Lib\\site-packages\\statsmodels\\discrete\\discrete_model.py:227: PerfectSeparationWarning: Perfect separation or prediction detected, parameter may not be identified\n",
      "  warnings.warn(msg, category=PerfectSeparationWarning)\n",
      "C:\\Users\\Admin\\anaconda3\\Lib\\site-packages\\statsmodels\\discrete\\discrete_model.py:227: PerfectSeparationWarning: Perfect separation or prediction detected, parameter may not be identified\n",
      "  warnings.warn(msg, category=PerfectSeparationWarning)\n",
      "C:\\Users\\Admin\\anaconda3\\Lib\\site-packages\\statsmodels\\discrete\\discrete_model.py:227: PerfectSeparationWarning: Perfect separation or prediction detected, parameter may not be identified\n",
      "  warnings.warn(msg, category=PerfectSeparationWarning)\n",
      "C:\\Users\\Admin\\anaconda3\\Lib\\site-packages\\statsmodels\\discrete\\discrete_model.py:227: PerfectSeparationWarning: Perfect separation or prediction detected, parameter may not be identified\n",
      "  warnings.warn(msg, category=PerfectSeparationWarning)\n",
      "C:\\Users\\Admin\\anaconda3\\Lib\\site-packages\\statsmodels\\discrete\\discrete_model.py:227: PerfectSeparationWarning: Perfect separation or prediction detected, parameter may not be identified\n",
      "  warnings.warn(msg, category=PerfectSeparationWarning)\n",
      "C:\\Users\\Admin\\anaconda3\\Lib\\site-packages\\statsmodels\\discrete\\discrete_model.py:227: PerfectSeparationWarning: Perfect separation or prediction detected, parameter may not be identified\n",
      "  warnings.warn(msg, category=PerfectSeparationWarning)\n",
      "C:\\Users\\Admin\\anaconda3\\Lib\\site-packages\\statsmodels\\discrete\\discrete_model.py:227: PerfectSeparationWarning: Perfect separation or prediction detected, parameter may not be identified\n",
      "  warnings.warn(msg, category=PerfectSeparationWarning)\n",
      "C:\\Users\\Admin\\anaconda3\\Lib\\site-packages\\statsmodels\\discrete\\discrete_model.py:227: PerfectSeparationWarning: Perfect separation or prediction detected, parameter may not be identified\n",
      "  warnings.warn(msg, category=PerfectSeparationWarning)\n",
      "C:\\Users\\Admin\\anaconda3\\Lib\\site-packages\\statsmodels\\discrete\\discrete_model.py:227: PerfectSeparationWarning: Perfect separation or prediction detected, parameter may not be identified\n",
      "  warnings.warn(msg, category=PerfectSeparationWarning)\n",
      "C:\\Users\\Admin\\anaconda3\\Lib\\site-packages\\statsmodels\\discrete\\discrete_model.py:227: PerfectSeparationWarning: Perfect separation or prediction detected, parameter may not be identified\n",
      "  warnings.warn(msg, category=PerfectSeparationWarning)\n",
      "C:\\Users\\Admin\\anaconda3\\Lib\\site-packages\\statsmodels\\discrete\\discrete_model.py:227: PerfectSeparationWarning: Perfect separation or prediction detected, parameter may not be identified\n",
      "  warnings.warn(msg, category=PerfectSeparationWarning)\n",
      "C:\\Users\\Admin\\anaconda3\\Lib\\site-packages\\statsmodels\\discrete\\discrete_model.py:227: PerfectSeparationWarning: Perfect separation or prediction detected, parameter may not be identified\n",
      "  warnings.warn(msg, category=PerfectSeparationWarning)\n",
      "C:\\Users\\Admin\\anaconda3\\Lib\\site-packages\\statsmodels\\discrete\\discrete_model.py:227: PerfectSeparationWarning: Perfect separation or prediction detected, parameter may not be identified\n",
      "  warnings.warn(msg, category=PerfectSeparationWarning)\n",
      "C:\\Users\\Admin\\anaconda3\\Lib\\site-packages\\statsmodels\\discrete\\discrete_model.py:227: PerfectSeparationWarning: Perfect separation or prediction detected, parameter may not be identified\n",
      "  warnings.warn(msg, category=PerfectSeparationWarning)\n",
      "C:\\Users\\Admin\\anaconda3\\Lib\\site-packages\\statsmodels\\base\\model.py:607: ConvergenceWarning: Maximum Likelihood optimization failed to converge. Check mle_retvals\n",
      "  warnings.warn(\"Maximum Likelihood optimization failed to \"\n"
     ]
    }
   ],
   "source": [
    "import pandas as pd\n",
    "import statsmodels.api as sm\n",
    "from scipy import stats\n",
    "\n",
    "X = sm.add_constant(X)\n",
    "\n",
    "# Fit separate binary logistic regression models for each category against all others\n",
    "unique_choices = y.unique()\n",
    "coefficients = {}\n",
    "\n",
    "for choice in unique_choices:\n",
    "    y_binary = (y == choice).astype(int)\n",
    "    model = sm.Logit(y_binary, X)\n",
    "    result = model.fit(disp=False)\n",
    "    coefficients[choice] = result.params\n",
    "\n",
    "# Combine coefficients into a single DataFrame\n",
    "coefficients_df = pd.DataFrame(coefficients).T\n",
    "coefficients_df.columns = ['Intercept'] + list(X.columns[1:])\n",
    "\n",
    "print(coefficients_df)\n",
    "\n",
    "X_null = sm.add_constant(pd.DataFrame({'Intercept': [1] * len(y)}))\n",
    "null_coefficients = {}\n",
    "\n",
    "for choice in unique_choices:\n",
    "    y_null_binary = (y == choice).astype(int)\n",
    "    null_model = sm.Logit(y_null_binary, X_null)\n",
    "    null_result = null_model.fit(disp=False)\n",
    "    null_coefficients[choice] = null_result.params\n",
    "\n",
    "# Combine coefficients into a single DataFrame\n",
    "coefficients_df = pd.DataFrame(null_coefficients).T\n",
    "coefficients_df.columns = ['Intercept'] + list(X_null.columns[1:])\n",
    "\n",
    "LL_model = result.llf  # Log-likelihood of the fitted model\n",
    "LL_null = null_result.llf  # Log-likelihood of the null model\n",
    "chi_square_stat = 2 * (LL_model - LL_null)\n",
    "df_diff = result.df_model - null_result.df_model\n",
    "p_value = stats.chi2.sf(chi_square_stat, df_diff)\n",
    "print(\"Chi-square statistic:\", chi_square_stat)\n",
    "print(\"Degrees of freedom:\", df_diff)\n",
    "print(\"p-value:\", p_value)\n"
   ]
  },
  {
   "cell_type": "code",
   "execution_count": null,
   "id": "686ab92b",
   "metadata": {},
   "outputs": [],
   "source": [
    "Accuracy: 0.9\n",
    "[-3.10803639  1.70447843  1.40355796]\n",
    "[[-0.10384904  1.00683949]\n",
    " [ 0.12766186 -1.02763773]\n",
    " [-0.02381282  0.02079824]]\n",
    " Intercept      Time       Cost\n",
    "1 -188.801879 -3.986434  38.361507\n",
    "2   -0.170464  2.057401 -13.258005\n",
    "3    0.164045 -0.119331   0.201680"
   ]
  },
  {
   "cell_type": "code",
   "execution_count": 73,
   "id": "5b4dc026",
   "metadata": {},
   "outputs": [
    {
     "ename": "AttributeError",
     "evalue": "'Mean' object has no attribute 'reset_states'",
     "output_type": "error",
     "traceback": [
      "\u001b[1;31m---------------------------------------------------------------------------\u001b[0m",
      "\u001b[1;31mAttributeError\u001b[0m                            Traceback (most recent call last)",
      "Cell \u001b[1;32mIn[73], line 53\u001b[0m\n\u001b[0;32m     51\u001b[0m epochs \u001b[38;5;241m=\u001b[39m \u001b[38;5;241m10\u001b[39m\n\u001b[0;32m     52\u001b[0m \u001b[38;5;28;01mfor\u001b[39;00m epoch \u001b[38;5;129;01min\u001b[39;00m \u001b[38;5;28mrange\u001b[39m(epochs):\n\u001b[1;32m---> 53\u001b[0m     train_loss\u001b[38;5;241m.\u001b[39mreset_states()\n\u001b[0;32m     54\u001b[0m     train_accuracy\u001b[38;5;241m.\u001b[39mreset_states()\n\u001b[0;32m     56\u001b[0m     \u001b[38;5;28;01mfor\u001b[39;00m features, labels \u001b[38;5;129;01min\u001b[39;00m \u001b[38;5;28mzip\u001b[39m(X_train_scaled, y_train):\n",
      "\u001b[1;31mAttributeError\u001b[0m: 'Mean' object has no attribute 'reset_states'"
     ]
    }
   ],
   "source": [
    "import tensorflow as tf\n",
    "import numpy as np\n",
    "from sklearn.model_selection import train_test_split\n",
    "from sklearn.preprocessing import StandardScaler\n",
    "from sklearn.metrics import accuracy_score\n",
    "\n",
    "# Assuming X and y are your features and target labels\n",
    "\n",
    "# Split the data into training and testing sets\n",
    "X_train, X_test, y_train, y_test = train_test_split(X, y, test_size=0.2, random_state=42)\n",
    "\n",
    "# Standardize the features\n",
    "scaler = StandardScaler()\n",
    "X_train_scaled = scaler.fit_transform(X_train)\n",
    "X_test_scaled = scaler.transform(X_test)\n",
    "\n",
    "# Define the multinomial logistic regression model using TensorFlow\n",
    "class MultinomialLogisticRegression(tf.keras.Model):\n",
    "    def __init__(self, num_classes):\n",
    "        super(MultinomialLogisticRegression, self).__init__()\n",
    "        self.dense = tf.keras.layers.Dense(num_classes, activation=None)\n",
    "\n",
    "    def call(self, inputs):\n",
    "        return self.dense(inputs)\n",
    "\n",
    "# Create an instance of the model\n",
    "num_classes = len(np.unique(y_train))\n",
    "model = MultinomialLogisticRegression(num_classes)\n",
    "\n",
    "# Define loss function and optimizer\n",
    "loss_object = tf.keras.losses.SparseCategoricalCrossentropy(from_logits=True)\n",
    "optimizer = tf.keras.optimizers.Adam()\n",
    "\n",
    "# Define metrics\n",
    "train_loss = tf.keras.metrics.Mean(name='train_loss')\n",
    "train_accuracy = tf.keras.metrics.SparseCategoricalAccuracy(name='train_accuracy')\n",
    "\n",
    "# Training function\n",
    "@tf.function\n",
    "def train_step(features, labels):\n",
    "    with tf.GradientTape() as tape:\n",
    "        predictions = model(features)\n",
    "        loss = loss_object(labels, predictions)\n",
    "    gradients = tape.gradient(loss, model.trainable_variables)\n",
    "    optimizer.apply_gradients(zip(gradients, model.trainable_variables))\n",
    "\n",
    "    train_loss(loss)\n",
    "    train_accuracy(labels, predictions)\n",
    "\n",
    "# Training loop\n",
    "epochs = 10\n",
    "for epoch in range(epochs):\n",
    "    train_loss.reset_states()\n",
    "    train_accuracy.reset_states()\n",
    "\n",
    "    for features, labels in zip(X_train_scaled, y_train):\n",
    "        train_step(features[None, :], labels[None])\n",
    "\n",
    "    print(\n",
    "        f'Epoch {epoch + 1}, '\n",
    "        f'Loss: {train_loss.result()}, '\n",
    "        f'Accuracy: {train_accuracy.result()}'\n",
    "    )\n",
    "\n",
    "\n",
    "# Evaluate the model\n",
    "predictions = model.predict(X_test_scaled)\n",
    "y_pred = np.argmax(predictions, axis=1)\n",
    "test_accuracy = accuracy_score(y_test, y_pred)\n",
    "print(\"Test Accuracy:\", test_accuracy)\n"
   ]
  },
  {
   "cell_type": "code",
   "execution_count": null,
   "id": "abd7ef29",
   "metadata": {},
   "outputs": [],
   "source": []
  },
  {
   "cell_type": "code",
   "execution_count": null,
   "id": "464badf0",
   "metadata": {},
   "outputs": [],
   "source": [
    "import numpy as np\n",
    "import pandas as pd\n",
    "from scipy.optimize import minimize\n",
    "from sklearn.preprocessing import OneHotEncoder\n",
    "from sklearn.metrics import accuracy_score\n",
    "\n",
    "# Define the softmax function\n",
    "def softmax(z):\n",
    "    exp_z = np.exp(z - np.max(z, axis=1, keepdims=True))  # Subtract max for numerical stability\n",
    "    return exp_z / np.sum(exp_z, axis=1, keepdims=True)\n",
    "\n",
    "# Define the negative log-likelihood function for multinomial logistic regression\n",
    "def neg_log_likelihood(params, X, y, num_classes, num_features):\n",
    "    coefficients = params.reshape((num_classes, num_features))\n",
    "    logits = np.dot(X, coefficients.T)\n",
    "    probs = softmax(logits)\n",
    "    log_likelihood = np.sum(y * np.log(probs))\n",
    "    return -log_likelihood\n",
    "\n",
    "# Define the prediction function\n",
    "def predict(params, X, num_classes, num_features):\n",
    "    coefficients = params.reshape((num_classes, num_features))\n",
    "    logits = np.dot(X, coefficients.T)\n",
    "    probs = softmax(logits)\n",
    "    return np.argmax(probs, axis=1)\n",
    "\n",
    "# Assuming X and y are already defined\n",
    "# Convert y to numpy array if it is a pandas Series\n",
    "if isinstance(y, pd.Series):\n",
    "    y = y.to_numpy()\n",
    "\n",
    "# Add a small constant to X to avoid log(0) or log of negative values\n",
    "small_constant = 1e-10\n",
    "X_transformed = X + small_constant\n",
    "\n",
    "# One-hot encode the target variable y\n",
    "encoder = OneHotEncoder(sparse_output=False)\n",
    "y_encoded = encoder.fit_transform(y.reshape(-1, 1))\n",
    "\n",
    "# Get the number of classes and features\n",
    "num_classes = y_encoded.shape[1]\n",
    "num_features = X_transformed.shape[1]\n",
    "\n",
    "# Initialize parameters (only coefficients, no intercepts)\n",
    "initial_coefficients = np.zeros((num_classes, num_features))\n",
    "\n",
    "# Minimize the negative log-likelihood\n",
    "result = minimize(neg_log_likelihood, initial_coefficients.ravel(), args=(X_transformed, y_encoded, num_classes, num_features), method='BFGS')\n",
    "optimal_params = result.x\n",
    "\n",
    "# Predict class labels using the optimized parameters\n",
    "y_pred = predict(optimal_params, X_transformed, num_classes, num_features)\n",
    "\n",
    "# Evaluate the model\n",
    "accuracy = accuracy_score(y, y_pred)\n",
    "print(\"Accuracy:\", accuracy)\n",
    "\n",
    "# Reshape the optimized parameters to get the coefficients\n",
    "optimal_coefficients = optimal_params.reshape((num_classes, num_features))\n",
    "print(\"Coefficients:\", optimal_coefficients)\n"
   ]
  },
  {
   "cell_type": "code",
   "execution_count": null,
   "id": "e86c0a0d",
   "metadata": {},
   "outputs": [],
   "source": []
  },
  {
   "cell_type": "code",
   "execution_count": null,
   "id": "822346ec",
   "metadata": {},
   "outputs": [],
   "source": []
  },
  {
   "cell_type": "code",
   "execution_count": null,
   "id": "0d84c9d6",
   "metadata": {},
   "outputs": [],
   "source": []
  },
  {
   "cell_type": "code",
   "execution_count": null,
   "id": "b420e6b1",
   "metadata": {},
   "outputs": [],
   "source": []
  },
  {
   "cell_type": "code",
   "execution_count": null,
   "id": "e48f3219",
   "metadata": {},
   "outputs": [],
   "source": []
  },
  {
   "cell_type": "code",
   "execution_count": null,
   "id": "ffc4cc6e",
   "metadata": {},
   "outputs": [],
   "source": []
  },
  {
   "cell_type": "code",
   "execution_count": 7,
   "id": "4f48334a",
   "metadata": {},
   "outputs": [
    {
     "name": "stderr",
     "output_type": "stream",
     "text": [
      "C:\\Users\\Admin\\AppData\\Local\\Temp\\ipykernel_16928\\1638413202.py:18: RuntimeWarning: divide by zero encountered in log\n",
      "  log_likelihood = np.sum(y * np.log(probs))\n",
      "C:\\Users\\Admin\\AppData\\Local\\Temp\\ipykernel_16928\\1638413202.py:18: RuntimeWarning: invalid value encountered in multiply\n",
      "  log_likelihood = np.sum(y * np.log(probs))\n"
     ]
    },
    {
     "name": "stdout",
     "output_type": "stream",
     "text": [
      "Accuracy: 0.0\n",
      "Intercepts: [-186.97978462   31.68007609  155.29924221]\n",
      "Coefficients: [[-13.52827805  81.87350478]\n",
      " [ 15.70082938 -82.45371514]\n",
      " [ -2.18892804   0.57835556]]\n"
     ]
    }
   ],
   "source": [
    "import numpy as np\n",
    "import pandas as pd\n",
    "from scipy.optimize import minimize\n",
    "from sklearn.preprocessing import OneHotEncoder\n",
    "from sklearn.metrics import accuracy_score\n",
    "\n",
    "# Define the softmax function\n",
    "def softmax(z):\n",
    "    exp_z = np.exp(z - np.max(z, axis=1, keepdims=True))  # Subtract max for numerical stability\n",
    "    return exp_z / np.sum(exp_z, axis=1, keepdims=True)\n",
    "\n",
    "# Define the negative log-likelihood function for multinomial logistic regression\n",
    "def neg_log_likelihood(params, X, y, num_classes, num_features):\n",
    "    intercepts = params[:num_classes]\n",
    "    coefficients = params[num_classes:].reshape((num_classes, num_features))\n",
    "    logits = np.dot(X, coefficients.T) + intercepts\n",
    "    probs = softmax(logits)\n",
    "    log_likelihood = np.sum(y * np.log(probs))\n",
    "    return -log_likelihood\n",
    "\n",
    "# Define the prediction function\n",
    "def predict(params, X, num_classes, num_features):\n",
    "    intercepts = params[:num_classes]\n",
    "    coefficients = params[num_classes:].reshape((num_classes, num_features))\n",
    "    logits = np.dot(X, coefficients.T) + intercepts\n",
    "    probs = softmax(logits)\n",
    "    return np.argmax(probs, axis=1)\n",
    "\n",
    "# Assuming X and y are already defined\n",
    "# Convert y to numpy array if it is a pandas Series\n",
    "if isinstance(y, pd.Series):\n",
    "    y = y.to_numpy()\n",
    "\n",
    "# Add a small constant to X to avoid log(0) or log of negative values\n",
    "small_constant = 1e-10\n",
    "X_transformed = X + small_constant\n",
    "\n",
    "# One-hot encode the target variable y\n",
    "encoder = OneHotEncoder(sparse_output=False)\n",
    "y_encoded = encoder.fit_transform(y.reshape(-1, 1))\n",
    "\n",
    "# Get the number of classes and features\n",
    "num_classes = y_encoded.shape[1]\n",
    "num_features = X_transformed.shape[1]\n",
    "\n",
    "# Initialize parameters (intercepts and coefficients)\n",
    "initial_intercepts = np.zeros(num_classes)\n",
    "initial_coefficients = np.zeros((num_classes, num_features))\n",
    "initial_params = np.concatenate([initial_intercepts, initial_coefficients.ravel()])\n",
    "\n",
    "# Minimize the negative log-likelihood\n",
    "result = minimize(neg_log_likelihood, initial_params, args=(X_transformed, y_encoded, num_classes, num_features), method='BFGS')\n",
    "optimal_params = result.x\n",
    "\n",
    "# Predict class labels using the optimized parameters\n",
    "y_pred = predict(optimal_params, X_transformed, num_classes, num_features)\n",
    "\n",
    "# Evaluate the model\n",
    "accuracy = accuracy_score(y, y_pred)\n",
    "print(\"Accuracy:\", accuracy)\n",
    "\n",
    "# Extract intercepts and coefficients\n",
    "optimal_intercepts = optimal_params[:num_classes]\n",
    "optimal_coefficients = optimal_params[num_classes:].reshape((num_classes, num_features))\n",
    "\n",
    "print(\"Intercepts:\", optimal_intercepts)\n",
    "print(\"Coefficients:\", optimal_coefficients)\n"
   ]
  },
  {
   "cell_type": "code",
   "execution_count": null,
   "id": "f4305ae7",
   "metadata": {},
   "outputs": [],
   "source": []
  },
  {
   "cell_type": "code",
   "execution_count": 25,
   "id": "4679d8e2",
   "metadata": {},
   "outputs": [
    {
     "name": "stdout",
     "output_type": "stream",
     "text": [
      "Accuracy: 0.6666666666666666\n",
      "Intercepts and Coefficients: [[ 0.01720777  0.00946106]\n",
      " [-0.01746449 -0.00949305]]\n"
     ]
    }
   ],
   "source": [
    "import numpy as np\n",
    "import pandas as pd\n",
    "from scipy.optimize import minimize\n",
    "from sklearn.preprocessing import OneHotEncoder\n",
    "from sklearn.metrics import accuracy_score\n",
    "\n",
    "# Define the softmax function\n",
    "def softmax(z):\n",
    "    exp_z = np.exp(z - np.max(z, axis=1, keepdims=True))  # Subtract max for numerical stability\n",
    "    return exp_z / np.sum(exp_z, axis=1, keepdims=True)\n",
    "\n",
    "# Define the negative log-likelihood function for multinomial logistic regression\n",
    "def neg_log_likelihood(params, X, y, num_classes):\n",
    "    num_features = X.shape[1]\n",
    "    params = params.reshape((num_classes, num_features))\n",
    "    logits = np.dot(X, params.T)\n",
    "    probs = softmax(logits)\n",
    "    log_likelihood = np.sum(y * np.log(probs))\n",
    "    return -log_likelihood\n",
    "\n",
    "# Define the prediction function\n",
    "def predict(params, X, num_classes):\n",
    "    num_features = X.shape[1]\n",
    "    params = params.reshape((num_classes, num_features))\n",
    "    logits = np.dot(X, params.T)\n",
    "    probs = softmax(logits)\n",
    "    return np.argmax(probs, axis=1)\n",
    "\n",
    "# Assuming X and y are already defined\n",
    "# Convert y to numpy array if it is a pandas Series\n",
    "if isinstance(y, pd.Series):\n",
    "    y = y.to_numpy()\n",
    "\n",
    "# Add a small constant to X to avoid log(0) or log of negative values\n",
    "small_constant = 1e-10\n",
    "X_transformed = X + small_constant\n",
    "\n",
    "# One-hot encode the target variable y\n",
    "encoder = OneHotEncoder(sparse_output=False)\n",
    "y_encoded = encoder.fit_transform(y.reshape(-1, 1))\n",
    "\n",
    "# Get the number of classes and features\n",
    "num_classes = y_encoded.shape[1]\n",
    "num_features = X_transformed.shape[1]\n",
    "\n",
    "# Initialize parameters\n",
    "initial_params = np.zeros((num_classes, num_features))\n",
    "\n",
    "# Minimize the negative log-likelihood\n",
    "result = minimize(neg_log_likelihood, initial_params.ravel(), args=(X_transformed, y_encoded, num_classes), method='BFGS')\n",
    "optimal_params = result.x\n",
    "\n",
    "# Predict class labels using the optimized parameters\n",
    "y_pred = predict(optimal_params, X_transformed, num_classes)\n",
    "\n",
    "# Evaluate the model\n",
    "accuracy = accuracy_score(y, y_pred)\n",
    "print(\"Accuracy:\", accuracy)\n",
    "\n",
    "# Reshape the optimized parameters to get the intercepts and coefficients\n",
    "optimal_params = optimal_params.reshape((num_classes, num_features))\n",
    "print(\"Intercepts and Coefficients:\", optimal_params)\n"
   ]
  },
  {
   "cell_type": "code",
   "execution_count": 15,
   "id": "7d638a7f",
   "metadata": {},
   "outputs": [
    {
     "name": "stdout",
     "output_type": "stream",
     "text": [
      "Accuracy: 0.6666666666666666\n",
      "Intercept: [0.40656766]\n",
      "Coefficients: [[-0.26645862 -0.00132187]]\n"
     ]
    }
   ],
   "source": [
    "import numpy as np\n",
    "from sklearn.linear_model import LogisticRegression\n",
    "from sklearn.metrics import accuracy_score\n",
    "from sklearn.preprocessing import FunctionTransformer\n",
    "from sklearn.pipeline import make_pipeline\n",
    "\n",
    "# Add a small constant to X to avoid log(0) or log of negative values\n",
    "small_constant = 1e-10\n",
    "X_transformed = X + small_constant\n",
    "\n",
    "# Apply log transformation to the data to follow a lognormal distribution\n",
    "log_transformer = FunctionTransformer(np.log, validate=True)\n",
    "\n",
    "# Create a pipeline that applies the log transformation followed by the multinomial logistic regression model\n",
    "model = make_pipeline(\n",
    "    log_transformer,\n",
    "    LogisticRegression(multi_class='multinomial', solver='lbfgs')\n",
    ")\n",
    "\n",
    "# Fit the model to the data\n",
    "model.fit(X_transformed, y)\n",
    "\n",
    "# Predict the class labels for the same data\n",
    "y_pred = model.predict(X_transformed)\n",
    "\n",
    "# Evaluate the model\n",
    "accuracy = accuracy_score(y, y_pred)\n",
    "print(\"Accuracy:\", accuracy)\n",
    "\n",
    "# Extract the logistic regression model from the pipeline\n",
    "logistic_model = model.named_steps['logisticregression']\n",
    "\n",
    "print(\"Intercept:\", logistic_model.intercept_)\n",
    "print(\"Coefficients:\", logistic_model.coef_)\n"
   ]
  },
  {
   "cell_type": "code",
   "execution_count": 100,
   "id": "50070956",
   "metadata": {},
   "outputs": [
    {
     "name": "stdout",
     "output_type": "stream",
     "text": [
      "Mean Accuracy: nan (nan)\n",
      "Intercepts: [-0.24907489  0.24907505]\n",
      "Coefficients: [[ 0.02642641  0.01748719]\n",
      " [-0.02643834 -0.01748854]]\n"
     ]
    }
   ],
   "source": [
    "import numpy as np\n",
    "import pandas as pd\n",
    "from scipy.optimize import minimize\n",
    "from sklearn.model_selection import RepeatedStratifiedKFold, cross_val_score\n",
    "from sklearn.metrics import accuracy_score\n",
    "from sklearn.preprocessing import LabelEncoder\n",
    "from sklearn.base import BaseEstimator, ClassifierMixin\n",
    "\n",
    "class MultinomialLogisticRegression(BaseEstimator, ClassifierMixin):\n",
    "    def __init__(self, max_iter=1000000):\n",
    "        self.max_iter = max_iter\n",
    "        self.coef_ = None\n",
    "        self.intercept_ = None\n",
    "        self.classes_ = None\n",
    "\n",
    "    def softmax(self, Z):\n",
    "        exp_Z = np.exp(Z - np.max(Z, axis=1, keepdims=True))\n",
    "        return exp_Z / exp_Z.sum(axis=1, keepdims=True)\n",
    "\n",
    "    def log_likelihood(self, params, X, y):\n",
    "        n_samples, n_features = X.shape\n",
    "        n_classes = len(np.unique(y))\n",
    "        intercept = params[:n_classes]\n",
    "        coef = params[n_classes:].reshape(n_classes, n_features)\n",
    "        logits = X.dot(coef.T) + intercept\n",
    "        probs = self.softmax(logits)\n",
    "        log_likelihood = -np.sum(np.log(probs[np.arange(n_samples), y]))\n",
    "        return log_likelihood\n",
    "\n",
    "    def fit(self, X, y):\n",
    "        X = np.asarray(X)\n",
    "        y = np.asarray(y)\n",
    "        n_samples, n_features = X.shape\n",
    "        self.classes_ = np.unique(y)\n",
    "        n_classes = len(self.classes_)\n",
    "\n",
    "        # Initial parameter values\n",
    "        init_params = np.zeros(n_classes + n_classes * n_features)\n",
    "\n",
    "        # Optimize the log-likelihood function\n",
    "        result = minimize(self.log_likelihood, init_params, args=(X, y), method='L-BFGS-B', options={'maxiter': self.max_iter})\n",
    "        \n",
    "        # Extract the optimal parameters\n",
    "        intercept = result.x[:n_classes]\n",
    "        coef = result.x[n_classes:].reshape(n_classes, n_features)\n",
    "        \n",
    "        self.intercept_ = intercept\n",
    "        self.coef_ = coef\n",
    "        return self\n",
    "\n",
    "    def predict_proba(self, X):\n",
    "        logits = X.dot(self.coef_.T) + self.intercept_\n",
    "        return self.softmax(logits)\n",
    "\n",
    "    def predict(self, X):\n",
    "        probs = self.predict_proba(X)\n",
    "        return np.argmax(probs, axis=1)\n",
    "\n",
    "# Example usage\n",
    "# Assuming X and y are your features and target variables\n",
    "# Encode the target variable if it's not already numeric\n",
    "le = LabelEncoder()\n",
    "y_encoded = le.fit_transform(y)\n",
    "\n",
    "# Define the model\n",
    "model = MultinomialLogisticRegression(max_iter=1000000)\n",
    "\n",
    "# Define the model evaluation procedure\n",
    "cv = RepeatedStratifiedKFold(n_splits=10, n_repeats=3, random_state=1)\n",
    "\n",
    "# Evaluate the model and collect the scores\n",
    "n_scores = cross_val_score(model, X, y_encoded, scoring='accuracy', cv=cv, n_jobs=-1)\n",
    "\n",
    "# Report the model performance\n",
    "print('Mean Accuracy: %.3f (%.3f)' % (np.mean(n_scores), np.std(n_scores)))\n",
    "\n",
    "# Fit the model to the entire dataset\n",
    "model.fit(X, y_encoded)\n",
    "print(\"Intercepts:\", model.intercept_)\n",
    "print(\"Coefficients:\", model.coef_)\n",
    "X_null = sm.add_constant(pd.DataFrame({'Intercept': [1] * len(y)}))"
   ]
  },
  {
   "cell_type": "code",
   "execution_count": 101,
   "id": "0c822fa9",
   "metadata": {},
   "outputs": [
    {
     "name": "stdout",
     "output_type": "stream",
     "text": [
      "  features      coef\n",
      "0     Time  0.026426\n",
      "1     Cost  0.017487\n"
     ]
    }
   ],
   "source": [
    "summary = pd.DataFrame(zip(X.columns, np.transpose(model.coef_.tolist()[0])), \n",
    "                       columns=['features', 'coef'])\n",
    "print(summary)"
   ]
  },
  {
   "cell_type": "code",
   "execution_count": 29,
   "id": "e49a950c",
   "metadata": {},
   "outputs": [
    {
     "name": "stdout",
     "output_type": "stream",
     "text": [
      "Accuracy: 0.9\n",
      "[-3.10803639  1.70447843  1.40355796]\n",
      "[[-0.10384904  1.00683949]\n",
      " [ 0.12766186 -1.02763773]\n",
      " [-0.02381282  0.02079824]]\n"
     ]
    }
   ],
   "source": [
    "import numpy as np\n",
    "from sklearn.linear_model import LogisticRegression\n",
    "from sklearn.metrics import accuracy_score\n",
    "\n",
    "\n",
    "\n",
    "# Create a multinomial logistic regression model\n",
    "model = LogisticRegression(multi_class='multinomial', solver='lbfgs')\n",
    "\n",
    "# Fit the model to the data\n",
    "model.fit(X, y)\n",
    "\n",
    "# Predict the class labels for the same data\n",
    "y_pred = model.predict(X)\n",
    "\n",
    "# Evaluate the model\n",
    "accuracy = accuracy_score(y, y_pred)\n",
    "print(\"Accuracy:\", accuracy)\n",
    "print(model.intercept_)\n",
    "print(model.coef_)"
   ]
  },
  {
   "cell_type": "code",
   "execution_count": 9,
   "id": "37bf1d86",
   "metadata": {},
   "outputs": [
    {
     "name": "stdout",
     "output_type": "stream",
     "text": [
      "Rho-squared: 0.7058877854771812\n"
     ]
    }
   ],
   "source": [
    "import numpy as np\n",
    "from sklearn.linear_model import LogisticRegression\n",
    "from sklearn.metrics import log_loss\n",
    "\n",
    "# Sample data\n",
    "\n",
    "\n",
    "# Create a multinomial logistic regression model\n",
    "model = LogisticRegression(multi_class='multinomial', solver='lbfgs', penalty='l2', \n",
    "                           C=1.0, max_iter=1000000)\n",
    "\n",
    "# Fit the model to the data\n",
    "model.fit(X, y)\n",
    "\n",
    "# Get the log-likelihood of the fitted model\n",
    "y_prob = model.predict_proba(X)\n",
    "LL_model = -log_loss(y, y_prob, normalize=False)\n",
    "\n",
    "# Fit the null model (only an intercept)\n",
    "null_model = LogisticRegression(multi_class='multinomial', solver='lbfgs', penalty='l2', \n",
    "                                C=1.0, max_iter=1000000, fit_intercept=True)\n",
    "X_null = np.ones((X.shape[0], 1))  # Only intercept\n",
    "null_model.fit(X_null, y)\n",
    "\n",
    "# Get the log-likelihood of the null model\n",
    "y_null_prob = null_model.predict_proba(X_null)\n",
    "LL_null = -log_loss(y, y_null_prob, normalize=False)\n",
    "\n",
    "# Compute rho-squared\n",
    "rho_squared = 1 - (LL_model / LL_null)\n",
    "print(\"Rho-squared:\", rho_squared)\n"
   ]
  },
  {
   "cell_type": "code",
   "execution_count": 76,
   "id": "2f9d1cb7",
   "metadata": {},
   "outputs": [
    {
     "ename": "ValueError",
     "evalue": "y_true and y_pred contain different number of classes 2, 3. Please provide the true labels explicitly through the labels argument. Classes found in y_true: [1 3]",
     "output_type": "error",
     "traceback": [
      "\u001b[1;31m---------------------------------------------------------------------------\u001b[0m",
      "\u001b[1;31mValueError\u001b[0m                                Traceback (most recent call last)",
      "Cell \u001b[1;32mIn[76], line 20\u001b[0m\n\u001b[0;32m     18\u001b[0m y_test_pred \u001b[38;5;241m=\u001b[39m model_poly\u001b[38;5;241m.\u001b[39mpredict_proba(X_test)\n\u001b[0;32m     19\u001b[0m LL_model_train \u001b[38;5;241m=\u001b[39m \u001b[38;5;241m-\u001b[39mlog_loss(y_train, y_train_pred, normalize\u001b[38;5;241m=\u001b[39m\u001b[38;5;28;01mFalse\u001b[39;00m)\n\u001b[1;32m---> 20\u001b[0m LL_model_test \u001b[38;5;241m=\u001b[39m \u001b[38;5;241m-\u001b[39mlog_loss(y_test, y_test_pred, normalize\u001b[38;5;241m=\u001b[39m\u001b[38;5;28;01mFalse\u001b[39;00m)\n\u001b[0;32m     22\u001b[0m \u001b[38;5;66;03m# Fit the null model\u001b[39;00m\n\u001b[0;32m     23\u001b[0m null_model_poly \u001b[38;5;241m=\u001b[39m LogisticRegression(multi_class\u001b[38;5;241m=\u001b[39m\u001b[38;5;124m'\u001b[39m\u001b[38;5;124mmultinomial\u001b[39m\u001b[38;5;124m'\u001b[39m, solver\u001b[38;5;241m=\u001b[39m\u001b[38;5;124m'\u001b[39m\u001b[38;5;124mlbfgs\u001b[39m\u001b[38;5;124m'\u001b[39m, penalty\u001b[38;5;241m=\u001b[39m\u001b[38;5;124m'\u001b[39m\u001b[38;5;124ml2\u001b[39m\u001b[38;5;124m'\u001b[39m, \n\u001b[0;32m     24\u001b[0m                                      C\u001b[38;5;241m=\u001b[39m\u001b[38;5;241m1.0\u001b[39m, max_iter\u001b[38;5;241m=\u001b[39m\u001b[38;5;241m1000000\u001b[39m, fit_intercept\u001b[38;5;241m=\u001b[39m\u001b[38;5;28;01mTrue\u001b[39;00m)\n",
      "File \u001b[1;32m~\\anaconda3\\Lib\\site-packages\\sklearn\\utils\\_param_validation.py:211\u001b[0m, in \u001b[0;36mvalidate_params.<locals>.decorator.<locals>.wrapper\u001b[1;34m(*args, **kwargs)\u001b[0m\n\u001b[0;32m    205\u001b[0m \u001b[38;5;28;01mtry\u001b[39;00m:\n\u001b[0;32m    206\u001b[0m     \u001b[38;5;28;01mwith\u001b[39;00m config_context(\n\u001b[0;32m    207\u001b[0m         skip_parameter_validation\u001b[38;5;241m=\u001b[39m(\n\u001b[0;32m    208\u001b[0m             prefer_skip_nested_validation \u001b[38;5;129;01mor\u001b[39;00m global_skip_validation\n\u001b[0;32m    209\u001b[0m         )\n\u001b[0;32m    210\u001b[0m     ):\n\u001b[1;32m--> 211\u001b[0m         \u001b[38;5;28;01mreturn\u001b[39;00m func(\u001b[38;5;241m*\u001b[39margs, \u001b[38;5;241m*\u001b[39m\u001b[38;5;241m*\u001b[39mkwargs)\n\u001b[0;32m    212\u001b[0m \u001b[38;5;28;01mexcept\u001b[39;00m InvalidParameterError \u001b[38;5;28;01mas\u001b[39;00m e:\n\u001b[0;32m    213\u001b[0m     \u001b[38;5;66;03m# When the function is just a wrapper around an estimator, we allow\u001b[39;00m\n\u001b[0;32m    214\u001b[0m     \u001b[38;5;66;03m# the function to delegate validation to the estimator, but we replace\u001b[39;00m\n\u001b[0;32m    215\u001b[0m     \u001b[38;5;66;03m# the name of the estimator by the name of the function in the error\u001b[39;00m\n\u001b[0;32m    216\u001b[0m     \u001b[38;5;66;03m# message to avoid confusion.\u001b[39;00m\n\u001b[0;32m    217\u001b[0m     msg \u001b[38;5;241m=\u001b[39m re\u001b[38;5;241m.\u001b[39msub(\n\u001b[0;32m    218\u001b[0m         \u001b[38;5;124mr\u001b[39m\u001b[38;5;124m\"\u001b[39m\u001b[38;5;124mparameter of \u001b[39m\u001b[38;5;124m\\\u001b[39m\u001b[38;5;124mw+ must be\u001b[39m\u001b[38;5;124m\"\u001b[39m,\n\u001b[0;32m    219\u001b[0m         \u001b[38;5;124mf\u001b[39m\u001b[38;5;124m\"\u001b[39m\u001b[38;5;124mparameter of \u001b[39m\u001b[38;5;132;01m{\u001b[39;00mfunc\u001b[38;5;241m.\u001b[39m\u001b[38;5;18m__qualname__\u001b[39m\u001b[38;5;132;01m}\u001b[39;00m\u001b[38;5;124m must be\u001b[39m\u001b[38;5;124m\"\u001b[39m,\n\u001b[0;32m    220\u001b[0m         \u001b[38;5;28mstr\u001b[39m(e),\n\u001b[0;32m    221\u001b[0m     )\n",
      "File \u001b[1;32m~\\anaconda3\\Lib\\site-packages\\sklearn\\metrics\\_classification.py:2897\u001b[0m, in \u001b[0;36mlog_loss\u001b[1;34m(y_true, y_pred, eps, normalize, sample_weight, labels)\u001b[0m\n\u001b[0;32m   2895\u001b[0m \u001b[38;5;28;01mif\u001b[39;00m \u001b[38;5;28mlen\u001b[39m(lb\u001b[38;5;241m.\u001b[39mclasses_) \u001b[38;5;241m!=\u001b[39m y_pred\u001b[38;5;241m.\u001b[39mshape[\u001b[38;5;241m1\u001b[39m]:\n\u001b[0;32m   2896\u001b[0m     \u001b[38;5;28;01mif\u001b[39;00m labels \u001b[38;5;129;01mis\u001b[39;00m \u001b[38;5;28;01mNone\u001b[39;00m:\n\u001b[1;32m-> 2897\u001b[0m         \u001b[38;5;28;01mraise\u001b[39;00m \u001b[38;5;167;01mValueError\u001b[39;00m(\n\u001b[0;32m   2898\u001b[0m             \u001b[38;5;124m\"\u001b[39m\u001b[38;5;124my_true and y_pred contain different number of \u001b[39m\u001b[38;5;124m\"\u001b[39m\n\u001b[0;32m   2899\u001b[0m             \u001b[38;5;124m\"\u001b[39m\u001b[38;5;124mclasses \u001b[39m\u001b[38;5;132;01m{0}\u001b[39;00m\u001b[38;5;124m, \u001b[39m\u001b[38;5;132;01m{1}\u001b[39;00m\u001b[38;5;124m. Please provide the true \u001b[39m\u001b[38;5;124m\"\u001b[39m\n\u001b[0;32m   2900\u001b[0m             \u001b[38;5;124m\"\u001b[39m\u001b[38;5;124mlabels explicitly through the labels argument. \u001b[39m\u001b[38;5;124m\"\u001b[39m\n\u001b[0;32m   2901\u001b[0m             \u001b[38;5;124m\"\u001b[39m\u001b[38;5;124mClasses found in \u001b[39m\u001b[38;5;124m\"\u001b[39m\n\u001b[0;32m   2902\u001b[0m             \u001b[38;5;124m\"\u001b[39m\u001b[38;5;124my_true: \u001b[39m\u001b[38;5;132;01m{2}\u001b[39;00m\u001b[38;5;124m\"\u001b[39m\u001b[38;5;241m.\u001b[39mformat(\n\u001b[0;32m   2903\u001b[0m                 transformed_labels\u001b[38;5;241m.\u001b[39mshape[\u001b[38;5;241m1\u001b[39m], y_pred\u001b[38;5;241m.\u001b[39mshape[\u001b[38;5;241m1\u001b[39m], lb\u001b[38;5;241m.\u001b[39mclasses_\n\u001b[0;32m   2904\u001b[0m             )\n\u001b[0;32m   2905\u001b[0m         )\n\u001b[0;32m   2906\u001b[0m     \u001b[38;5;28;01melse\u001b[39;00m:\n\u001b[0;32m   2907\u001b[0m         \u001b[38;5;28;01mraise\u001b[39;00m \u001b[38;5;167;01mValueError\u001b[39;00m(\n\u001b[0;32m   2908\u001b[0m             \u001b[38;5;124m\"\u001b[39m\u001b[38;5;124mThe number of classes in labels is different \u001b[39m\u001b[38;5;124m\"\u001b[39m\n\u001b[0;32m   2909\u001b[0m             \u001b[38;5;124m\"\u001b[39m\u001b[38;5;124mfrom that in y_pred. Classes found in \u001b[39m\u001b[38;5;124m\"\u001b[39m\n\u001b[0;32m   2910\u001b[0m             \u001b[38;5;124m\"\u001b[39m\u001b[38;5;124mlabels: \u001b[39m\u001b[38;5;132;01m{0}\u001b[39;00m\u001b[38;5;124m\"\u001b[39m\u001b[38;5;241m.\u001b[39mformat(lb\u001b[38;5;241m.\u001b[39mclasses_)\n\u001b[0;32m   2911\u001b[0m         )\n",
      "\u001b[1;31mValueError\u001b[0m: y_true and y_pred contain different number of classes 2, 3. Please provide the true labels explicitly through the labels argument. Classes found in y_true: [1 3]"
     ]
    }
   ],
   "source": [
    "from sklearn.preprocessing import PolynomialFeatures\n",
    "from sklearn.model_selection import train_test_split\n",
    "\n",
    "# Example: Adding polynomial features\n",
    "poly = PolynomialFeatures(degree=2)\n",
    "X_poly = poly.fit_transform(X)\n",
    "\n",
    "# Split the data into training and testing sets\n",
    "X_train, X_test, y_train, y_test = train_test_split(X_poly, y, test_size=0.2, random_state=42)\n",
    "\n",
    "# Fit the model with polynomial features\n",
    "model_poly = LogisticRegression(multi_class='multinomial', solver='lbfgs', penalty='l2', \n",
    "                                C=1.0, max_iter=1000000)\n",
    "model_poly.fit(X_train, y_train)\n",
    "\n",
    "# Evaluate the model\n",
    "y_train_pred = model_poly.predict_proba(X_train)\n",
    "y_test_pred = model_poly.predict_proba(X_test)\n",
    "LL_model_train = -log_loss(y_train, y_train_pred, normalize=False)\n",
    "LL_model_test = -log_loss(y_test, y_test_pred, normalize=False)\n",
    "\n",
    "# Fit the null model\n",
    "null_model_poly = LogisticRegression(multi_class='multinomial', solver='lbfgs', penalty='l2', \n",
    "                                     C=1.0, max_iter=1000000, fit_intercept=True)\n",
    "null_model_poly.fit(np.ones((X_train.shape[0], 1)), y_train)\n",
    "\n",
    "# Get the log-likelihood of the null model\n",
    "y_null_train_pred = null_model_poly.predict_proba(np.ones((X_train.shape[0], 1)))\n",
    "LL_null_train = -log_loss(y_train, y_null_train_pred, normalize=False)\n",
    "\n",
    "# Compute rho-squared for training set\n",
    "rho_squared_train = 1 - (LL_model_train / LL_null_train)\n",
    "print(\"Rho-squared (train):\", rho_squared_train)\n",
    "\n",
    "# Evaluate on the test set\n",
    "y_null_test_pred = null_model_poly.predict_proba(np.ones((X_test.shape[0], 1)))\n",
    "LL_null_test = -log_loss(y_test, y_null_test_pred, normalize=False)\n",
    "\n",
    "# Compute rho-squared for test set\n",
    "rho_squared_test = 1 - (LL_model_test / LL_null_test)\n",
    "print(\"Rho-squared (test):\", rho_squared_test)\n"
   ]
  },
  {
   "cell_type": "code",
   "execution_count": 11,
   "id": "60f34a8e",
   "metadata": {},
   "outputs": [
    {
     "name": "stdout",
     "output_type": "stream",
     "text": [
      "Mean Accuracy: 0.622 (0.166)\n"
     ]
    }
   ],
   "source": [
    "# define the multinomial logistic regression model with a default penalty\n",
    "model = LogisticRegression(multi_class='multinomial', solver='lbfgs', penalty='l2', \n",
    "                           C=1.0, max_iter = 1000000)\n",
    "# define the model evaluation procedure\n",
    "cv = RepeatedStratifiedKFold(n_splits=10, n_repeats=3, random_state=1)\n",
    "# evaluate the model and collect the scores\n",
    "n_scores = cross_val_score(model, X, y, scoring='accuracy', cv=cv, n_jobs=-1)\n",
    "# report the model performance\n",
    "print('Mean Accuracy: %.3f (%.3f)' % (mean(n_scores), std(n_scores)))"
   ]
  },
  {
   "cell_type": "code",
   "execution_count": 12,
   "id": "21ec1842",
   "metadata": {},
   "outputs": [],
   "source": [
    "result = model.fit(X, y)"
   ]
  },
  {
   "cell_type": "code",
   "execution_count": 13,
   "id": "4e63f304",
   "metadata": {},
   "outputs": [
    {
     "name": "stdout",
     "output_type": "stream",
     "text": [
      "Predicted Probabilities: [0.63170614 0.36829386]\n"
     ]
    }
   ],
   "source": [
    "row = X.iloc[0:1, :]\n",
    "# predict a multinomial probability distribution\n",
    "yhat = model.predict_proba(row)\n",
    "# summarize the predicted probabilities\n",
    "print('Predicted Probabilities: %s' % yhat[0])"
   ]
  },
  {
   "cell_type": "code",
   "execution_count": 14,
   "id": "45b5bbc7",
   "metadata": {},
   "outputs": [
    {
     "name": "stdout",
     "output_type": "stream",
     "text": [
      "Predicted Class: 0\n"
     ]
    }
   ],
   "source": [
    "# predict the class label\n",
    "yhat = model.predict(row)\n",
    "# summarize the predicted class\n",
    "print('Predicted Class: %d' % yhat[0])"
   ]
  },
  {
   "cell_type": "code",
   "execution_count": null,
   "id": "0607802b",
   "metadata": {},
   "outputs": [],
   "source": []
  },
  {
   "cell_type": "code",
   "execution_count": 15,
   "id": "16d283b8",
   "metadata": {},
   "outputs": [
    {
     "name": "stdout",
     "output_type": "stream",
     "text": [
      "[0.2483642]\n",
      "[[-0.02640554 -0.01743611]]\n"
     ]
    }
   ],
   "source": [
    "print(result.intercept_)\n",
    "print(result.coef_)"
   ]
  },
  {
   "cell_type": "code",
   "execution_count": 16,
   "id": "405144eb",
   "metadata": {},
   "outputs": [],
   "source": [
    "summary = pd.DataFrame(zip(X.columns, np.transpose(result.coef_.tolist()[0])), \n",
    "                       columns=['features', 'coef'])"
   ]
  },
  {
   "cell_type": "code",
   "execution_count": 17,
   "id": "f91d55f7",
   "metadata": {},
   "outputs": [
    {
     "name": "stdout",
     "output_type": "stream",
     "text": [
      "  features      coef\n",
      "0     Time -0.026406\n",
      "1     Cost -0.017436\n"
     ]
    }
   ],
   "source": [
    "print(summary)"
   ]
  },
  {
   "cell_type": "code",
   "execution_count": 25,
   "id": "e0111ce6",
   "metadata": {},
   "outputs": [
    {
     "name": "stdout",
     "output_type": "stream",
     "text": [
      "Warning: Maximum number of iterations has been exceeded.\n",
      "         Current function value: 0.374139\n",
      "         Iterations: 35\n",
      "                          MNLogit Regression Results                          \n",
      "==============================================================================\n",
      "Dep. Variable:                   Mode   No. Observations:                   10\n",
      "Model:                        MNLogit   Df Residuals:                        6\n",
      "Method:                           MLE   Df Model:                            2\n",
      "Date:                Tue, 11 Jun 2024   Pseudo R-squ.:                  0.6564\n",
      "Time:                        21:02:53   Log-Likelihood:                -3.7414\n",
      "converged:                      False   LL-Null:                       -10.889\n",
      "Covariance Type:            nonrobust   LLR p-value:                 0.0007867\n",
      "==============================================================================\n",
      "    Mode=2       coef    std err          z      P>|z|      [0.025      0.975]\n",
      "------------------------------------------------------------------------------\n",
      "Time           2.3939   2.06e+04      0.000      1.000   -4.04e+04    4.04e+04\n",
      "Cost         -14.3603   1.03e+05     -0.000      1.000   -2.02e+05    2.02e+05\n",
      "------------------------------------------------------------------------------\n",
      "    Mode=3       coef    std err          z      P>|z|      [0.025      0.975]\n",
      "------------------------------------------------------------------------------\n",
      "Time           0.3196      0.298      1.072      0.284      -0.265       0.904\n",
      "Cost          -1.0051      0.873     -1.151      0.250      -2.716       0.706\n",
      "==============================================================================\n"
     ]
    },
    {
     "name": "stderr",
     "output_type": "stream",
     "text": [
      "C:\\Users\\Admin\\anaconda3\\Lib\\site-packages\\statsmodels\\base\\model.py:607: ConvergenceWarning: Maximum Likelihood optimization failed to converge. Check mle_retvals\n",
      "  warnings.warn(\"Maximum Likelihood optimization failed to \"\n"
     ]
    }
   ],
   "source": [
    "# Example dataset\n",
    "\n",
    "\n",
    "\n",
    "# Fitting the MNLogit model\n",
    "model = sm.MNLogit(y, X)\n",
    "result = model.fit()\n",
    "\n",
    "# Display the summary of the model\n",
    "print(result.summary())\n"
   ]
  },
  {
   "cell_type": "code",
   "execution_count": 38,
   "id": "68bf7d66",
   "metadata": {},
   "outputs": [
    {
     "ename": "AttributeError",
     "evalue": "'MNLogit' object has no attribute 'predict_proba'",
     "output_type": "error",
     "traceback": [
      "\u001b[1;31m---------------------------------------------------------------------------\u001b[0m",
      "\u001b[1;31mAttributeError\u001b[0m                            Traceback (most recent call last)",
      "Cell \u001b[1;32mIn[38], line 3\u001b[0m\n\u001b[0;32m      1\u001b[0m row \u001b[38;5;241m=\u001b[39m X\u001b[38;5;241m.\u001b[39miloc[\u001b[38;5;241m0\u001b[39m:\u001b[38;5;241m1\u001b[39m, :]\n\u001b[0;32m      2\u001b[0m \u001b[38;5;66;03m# predict a multinomial probability distribution\u001b[39;00m\n\u001b[1;32m----> 3\u001b[0m yhat \u001b[38;5;241m=\u001b[39m model\u001b[38;5;241m.\u001b[39mpredict_proba(row)\n\u001b[0;32m      4\u001b[0m \u001b[38;5;66;03m# summarize the predicted probabilities\u001b[39;00m\n\u001b[0;32m      5\u001b[0m \u001b[38;5;28mprint\u001b[39m(\u001b[38;5;124m'\u001b[39m\u001b[38;5;124mPredicted Probabilities: \u001b[39m\u001b[38;5;132;01m%s\u001b[39;00m\u001b[38;5;124m'\u001b[39m \u001b[38;5;241m%\u001b[39m yhat[\u001b[38;5;241m0\u001b[39m])\n",
      "\u001b[1;31mAttributeError\u001b[0m: 'MNLogit' object has no attribute 'predict_proba'"
     ]
    }
   ],
   "source": [
    "row = X.iloc[0:1, :]\n",
    "# predict a multinomial probability distribution\n",
    "yhat = model.predict_proba(row)\n",
    "# summarize the predicted probabilities\n",
    "print('Predicted Probabilities: %s' % yhat[0])"
   ]
  },
  {
   "cell_type": "code",
   "execution_count": 10,
   "id": "bf2f1764",
   "metadata": {},
   "outputs": [
    {
     "name": "stdout",
     "output_type": "stream",
     "text": [
      "Warning: Maximum number of iterations has been exceeded.\n",
      "         Current function value: 0.374139\n",
      "         Iterations: 35\n",
      "                          MNLogit Regression Results                          \n",
      "==============================================================================\n",
      "Dep. Variable:                   Mode   No. Observations:                   10\n",
      "Model:                        MNLogit   Df Residuals:                        6\n",
      "Method:                           MLE   Df Model:                            2\n",
      "Date:                Tue, 11 Jun 2024   Pseudo R-squ.:                  0.6564\n",
      "Time:                        20:49:48   Log-Likelihood:                -3.7414\n",
      "converged:                      False   LL-Null:                       -10.889\n",
      "Covariance Type:            nonrobust   LLR p-value:                 0.0007867\n",
      "==============================================================================\n",
      "    Mode=2       coef    std err          z      P>|z|      [0.025      0.975]\n",
      "------------------------------------------------------------------------------\n",
      "Time           2.3939   2.06e+04      0.000      1.000   -4.04e+04    4.04e+04\n",
      "Cost         -14.3603   1.03e+05     -0.000      1.000   -2.02e+05    2.02e+05\n",
      "------------------------------------------------------------------------------\n",
      "    Mode=3       coef    std err          z      P>|z|      [0.025      0.975]\n",
      "------------------------------------------------------------------------------\n",
      "Time           0.3196      0.298      1.072      0.284      -0.265       0.904\n",
      "Cost          -1.0051      0.873     -1.151      0.250      -2.716       0.706\n",
      "==============================================================================\n"
     ]
    },
    {
     "name": "stderr",
     "output_type": "stream",
     "text": [
      "C:\\Users\\Admin\\anaconda3\\Lib\\site-packages\\statsmodels\\base\\model.py:607: ConvergenceWarning: Maximum Likelihood optimization failed to converge. Check mle_retvals\n",
      "  warnings.warn(\"Maximum Likelihood optimization failed to \"\n"
     ]
    }
   ],
   "source": [
    "# Fitting the MNLogit model without an intercept\n",
    "model = sm.MNLogit(y, X)\n",
    "result = model.fit()\n",
    "\n",
    "# Display the summary of the model\n",
    "print(result.summary())"
   ]
  },
  {
   "cell_type": "code",
   "execution_count": 63,
   "id": "079d3d58",
   "metadata": {},
   "outputs": [
    {
     "name": "stdout",
     "output_type": "stream",
     "text": [
      "[0.24836398]\n",
      "[[-0.02640551 -0.01743616]]\n"
     ]
    }
   ],
   "source": [
    "model = LogisticRegression(random_state=0, multi_class='multinomial', solver='newton-cg')\n",
    "result = model.fit(X, y)\n",
    "print(result.intercept_)\n",
    "print(result.coef_)"
   ]
  },
  {
   "cell_type": "code",
   "execution_count": 67,
   "id": "17421e0b",
   "metadata": {},
   "outputs": [
    {
     "name": "stdout",
     "output_type": "stream",
     "text": [
      "Optimization terminated successfully.\n",
      "         Current function value: 0.596139\n",
      "         Iterations 6\n",
      "                          MNLogit Regression Results                          \n",
      "==============================================================================\n",
      "Dep. Variable:                 Choice   No. Observations:                   30\n",
      "Model:                        MNLogit   Df Residuals:                       27\n",
      "Method:                           MLE   Df Model:                            2\n",
      "Date:                Thu, 06 Jun 2024   Pseudo R-squ.:                 0.06343\n",
      "Time:                        22:33:38   Log-Likelihood:                -17.884\n",
      "converged:                       True   LL-Null:                       -19.095\n",
      "Covariance Type:            nonrobust   LLR p-value:                    0.2978\n",
      "==============================================================================\n",
      "  Choice=1       coef    std err          z      P>|z|      [0.025      0.975]\n",
      "------------------------------------------------------------------------------\n",
      "const          0.4982      0.954      0.522      0.601      -1.371       2.367\n",
      "Time          -0.0529      0.044     -1.188      0.235      -0.140       0.034\n",
      "Cost          -0.0350      0.076     -0.459      0.646      -0.184       0.114\n",
      "==============================================================================\n"
     ]
    }
   ],
   "source": [
    "# Fitting the MNLogit model without an intercept using Newton-Raphson method\n",
    "X = sm.add_constant(X)\n",
    "model = sm.MNLogit(y, X)\n",
    "result = model.fit(method='newton')\n",
    "\n",
    "# Display the summary of the model\n",
    "print(result.summary())"
   ]
  },
  {
   "cell_type": "code",
   "execution_count": 68,
   "id": "3b94ed90",
   "metadata": {},
   "outputs": [
    {
     "name": "stdout",
     "output_type": "stream",
     "text": [
      "Collecting xlogit\n",
      "  Obtaining dependency information for xlogit from https://files.pythonhosted.org/packages/5b/ab/5280d6920d59e739063effb59b54349a71ee66bdd11daa1664d08e68564a/xlogit-0.2.7-py3-none-any.whl.metadata\n",
      "  Downloading xlogit-0.2.7-py3-none-any.whl.metadata (10 kB)\n",
      "Requirement already satisfied: numpy>=1.13.1 in c:\\users\\admin\\anaconda3\\lib\\site-packages (from xlogit) (1.24.3)\n",
      "Requirement already satisfied: scipy>=1.0.0 in c:\\users\\admin\\anaconda3\\lib\\site-packages (from xlogit) (1.11.1)\n",
      "Downloading xlogit-0.2.7-py3-none-any.whl (36 kB)\n",
      "Installing collected packages: xlogit\n",
      "Successfully installed xlogit-0.2.7\n"
     ]
    }
   ],
   "source": [
    "!pip install xlogit"
   ]
  },
  {
   "cell_type": "code",
   "execution_count": 21,
   "id": "6e1aaedb",
   "metadata": {},
   "outputs": [
    {
     "ename": "AttributeError",
     "evalue": "'MNLogit' object has no attribute 'predict_proba'",
     "output_type": "error",
     "traceback": [
      "\u001b[1;31m---------------------------------------------------------------------------\u001b[0m",
      "\u001b[1;31mAttributeError\u001b[0m                            Traceback (most recent call last)",
      "Cell \u001b[1;32mIn[21], line 8\u001b[0m\n\u001b[0;32m      6\u001b[0m row \u001b[38;5;241m=\u001b[39m X\u001b[38;5;241m.\u001b[39miloc[i:i\u001b[38;5;241m+\u001b[39m\u001b[38;5;241m1\u001b[39m, :]  \u001b[38;5;66;03m# Select a single row from the DataFrame\u001b[39;00m\n\u001b[0;32m      7\u001b[0m \u001b[38;5;66;03m# Predict a multinomial probability distribution\u001b[39;00m\n\u001b[1;32m----> 8\u001b[0m yhat \u001b[38;5;241m=\u001b[39m model\u001b[38;5;241m.\u001b[39mpredict_proba(row)\n\u001b[0;32m      9\u001b[0m \u001b[38;5;66;03m# Summarize the predicted probabilities and append to the list\u001b[39;00m\n\u001b[0;32m     10\u001b[0m p1\u001b[38;5;241m.\u001b[39mappend(yhat[\u001b[38;5;241m0\u001b[39m][\u001b[38;5;241m0\u001b[39m])\n",
      "\u001b[1;31mAttributeError\u001b[0m: 'MNLogit' object has no attribute 'predict_proba'"
     ]
    }
   ],
   "source": [
    "p1= []\n",
    "p2 = []\n",
    "p3=[]\n",
    "# Initialize an empty list to store predicted probabilities\n",
    "for i in range(len(hsb2.Mode)):\n",
    "    row = X.iloc[i:i+1, :]  # Select a single row from the DataFrame\n",
    "    # Predict a multinomial probability distribution\n",
    "    yhat = model.predict_proba(row)\n",
    "    # Summarize the predicted probabilities and append to the list\n",
    "    p1.append(yhat[0][0])\n",
    "    p2.append(yhat[0][1])\n",
    "    p3.append(yhat[0][2])\n",
    "  \n",
    "hsb2['P1'] = p1\n",
    "hsb2['P2'] = p2\n",
    "hsb2['p3']=p3\n"
   ]
  },
  {
   "cell_type": "code",
   "execution_count": null,
   "id": "0f8526bc",
   "metadata": {},
   "outputs": [],
   "source": [
    "# predict the class label\n",
    "yhat = model.predict(row)\n",
    "# summarize the predicted class\n",
    "print('Predicted Class: %d' % yhat[0])\n",
    "\n",
    "c = []\n",
    "# Initialize an empty list to store predicted probabilities\n",
    "for i in range(len(hsb2.Mode)):\n",
    "    row = X.iloc[i:i+1, :]  # Select a single row from the DataFrame\n",
    "    # Predict a multinomial probability distribution\n",
    "    yhat = model.predict(row)\n",
    "    # Summarize the predicted probabilities and append to the list\n",
    "    c.append(yhat[0])\n",
    "    \n",
    "\n",
    "hsb2['Predicted'] = c"
   ]
  },
  {
   "cell_type": "code",
   "execution_count": null,
   "id": "bbadcc19",
   "metadata": {},
   "outputs": [],
   "source": [
    "print(hsb2)"
   ]
  },
  {
   "cell_type": "code",
   "execution_count": 26,
   "id": "7a5e9ec7",
   "metadata": {},
   "outputs": [
    {
     "name": "stdout",
     "output_type": "stream",
     "text": [
      "   Person No.  Mode  Time  Cost  Choice  Prob_M  Prob_o  Prob_d  Prob_e\n",
      "0           1     1    15     7       1     NaN     NaN     NaN     NaN\n",
      "1           2     2    15     0       1     NaN     NaN     NaN     NaN\n",
      "2           3     3     7     3       1     NaN     NaN     NaN     NaN\n",
      "3           4     3    20     5       1     NaN     NaN     NaN     NaN\n",
      "4           5     2    12     0       1     NaN     NaN     NaN     NaN\n",
      "5           6     1    20     7       1     NaN     NaN     NaN     NaN\n",
      "6           7     3    20     7       1     NaN     NaN     NaN     NaN\n",
      "7           8     1    15     7       1     NaN     NaN     NaN     NaN\n",
      "8           9     2    15     0       1     NaN     NaN     NaN     NaN\n",
      "9          10     1    25     8       1     NaN     NaN     NaN     NaN\n"
     ]
    }
   ],
   "source": [
    "# Predict probabilities for each observation\n",
    "predicted_probabilities = result.predict(X)\n",
    "\n",
    "# Add the predicted probabilities to the DataFrame\n",
    "prob_df = pd.DataFrame(predicted_probabilities, columns=[f'Prob_{choice}' for choice in model.endog_names])\n",
    "result_df = pd.concat([hsb2, prob_df], axis=1)\n",
    "\n",
    "print(result_df)"
   ]
  },
  {
   "cell_type": "code",
   "execution_count": null,
   "id": "d7aaa68f",
   "metadata": {},
   "outputs": [],
   "source": []
  }
 ],
 "metadata": {
  "kernelspec": {
   "display_name": "Python 3 (ipykernel)",
   "language": "python",
   "name": "python3"
  },
  "language_info": {
   "codemirror_mode": {
    "name": "ipython",
    "version": 3
   },
   "file_extension": ".py",
   "mimetype": "text/x-python",
   "name": "python",
   "nbconvert_exporter": "python",
   "pygments_lexer": "ipython3",
   "version": "3.11.5"
  }
 },
 "nbformat": 4,
 "nbformat_minor": 5
}
