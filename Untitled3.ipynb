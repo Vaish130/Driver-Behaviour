{
 "cells": [
  {
   "cell_type": "code",
   "execution_count": 2,
   "id": "d6eb795e",
   "metadata": {},
   "outputs": [
    {
     "name": "stdout",
     "output_type": "stream",
     "text": [
      "Original DataFrame:\n",
      "   A  B\n",
      "0  1  4\n",
      "1  2  5\n",
      "2  3  6\n"
     ]
    },
    {
     "ename": "KeyError",
     "evalue": "Index([0, 0, 0, 1, 1, 1, 2, 2, 2], dtype='int64')",
     "output_type": "error",
     "traceback": [
      "\u001b[1;31m---------------------------------------------------------------------------\u001b[0m",
      "\u001b[1;31mKeyError\u001b[0m                                  Traceback (most recent call last)",
      "\u001b[1;32m~\\AppData\\Local\\Temp\\ipykernel_19972\\4154347605.py\u001b[0m in \u001b[0;36m?\u001b[1;34m()\u001b[0m\n\u001b[0;32m     12\u001b[0m \u001b[0mprint\u001b[0m\u001b[1;33m(\u001b[0m\u001b[1;34m\"Original DataFrame:\"\u001b[0m\u001b[1;33m)\u001b[0m\u001b[1;33m\u001b[0m\u001b[1;33m\u001b[0m\u001b[0m\n\u001b[0;32m     13\u001b[0m \u001b[0mprint\u001b[0m\u001b[1;33m(\u001b[0m\u001b[0mdf\u001b[0m\u001b[1;33m)\u001b[0m\u001b[1;33m\u001b[0m\u001b[1;33m\u001b[0m\u001b[0m\n\u001b[0;32m     14\u001b[0m \u001b[1;33m\u001b[0m\u001b[0m\n\u001b[0;32m     15\u001b[0m \u001b[1;31m# Repeat each row 3 times (including the original)\u001b[0m\u001b[1;33m\u001b[0m\u001b[1;33m\u001b[0m\u001b[0m\n\u001b[1;32m---> 16\u001b[1;33m \u001b[0mrepeated_df\u001b[0m \u001b[1;33m=\u001b[0m \u001b[0mpd\u001b[0m\u001b[1;33m.\u001b[0m\u001b[0mconcat\u001b[0m\u001b[1;33m(\u001b[0m\u001b[1;33m[\u001b[0m\u001b[0mdf\u001b[0m\u001b[1;33m]\u001b[0m \u001b[1;33m*\u001b[0m \u001b[1;36m3\u001b[0m\u001b[1;33m,\u001b[0m \u001b[0mignore_index\u001b[0m\u001b[1;33m=\u001b[0m\u001b[1;32mTrue\u001b[0m\u001b[1;33m)\u001b[0m\u001b[1;33m.\u001b[0m\u001b[0msort_values\u001b[0m\u001b[1;33m(\u001b[0m\u001b[0mby\u001b[0m\u001b[1;33m=\u001b[0m\u001b[0mdf\u001b[0m\u001b[1;33m.\u001b[0m\u001b[0mindex\u001b[0m\u001b[1;33m.\u001b[0m\u001b[0mrepeat\u001b[0m\u001b[1;33m(\u001b[0m\u001b[1;36m3\u001b[0m\u001b[1;33m)\u001b[0m\u001b[1;33m)\u001b[0m\u001b[1;33m.\u001b[0m\u001b[0mreset_index\u001b[0m\u001b[1;33m(\u001b[0m\u001b[0mdrop\u001b[0m\u001b[1;33m=\u001b[0m\u001b[1;32mTrue\u001b[0m\u001b[1;33m)\u001b[0m\u001b[1;33m\u001b[0m\u001b[1;33m\u001b[0m\u001b[0m\n\u001b[0m\u001b[0;32m     17\u001b[0m \u001b[1;33m\u001b[0m\u001b[0m\n\u001b[0;32m     18\u001b[0m \u001b[1;31m# Print the modified DataFrame\u001b[0m\u001b[1;33m\u001b[0m\u001b[1;33m\u001b[0m\u001b[0m\n\u001b[0;32m     19\u001b[0m \u001b[0mprint\u001b[0m\u001b[1;33m(\u001b[0m\u001b[1;34m\"\\nModified DataFrame:\"\u001b[0m\u001b[1;33m)\u001b[0m\u001b[1;33m\u001b[0m\u001b[1;33m\u001b[0m\u001b[0m\n",
      "\u001b[1;32m~\\anaconda3\\Lib\\site-packages\\pandas\\core\\frame.py\u001b[0m in \u001b[0;36m?\u001b[1;34m(self, by, axis, ascending, inplace, kind, na_position, ignore_index, key)\u001b[0m\n\u001b[0;32m   6754\u001b[0m         \u001b[1;32melif\u001b[0m \u001b[0mlen\u001b[0m\u001b[1;33m(\u001b[0m\u001b[0mby\u001b[0m\u001b[1;33m)\u001b[0m\u001b[1;33m:\u001b[0m\u001b[1;33m\u001b[0m\u001b[1;33m\u001b[0m\u001b[0m\n\u001b[0;32m   6755\u001b[0m             \u001b[1;31m# len(by) == 1\u001b[0m\u001b[1;33m\u001b[0m\u001b[1;33m\u001b[0m\u001b[0m\n\u001b[0;32m   6756\u001b[0m \u001b[1;33m\u001b[0m\u001b[0m\n\u001b[0;32m   6757\u001b[0m             \u001b[0mby\u001b[0m \u001b[1;33m=\u001b[0m \u001b[0mby\u001b[0m\u001b[1;33m[\u001b[0m\u001b[1;36m0\u001b[0m\u001b[1;33m]\u001b[0m\u001b[1;33m\u001b[0m\u001b[1;33m\u001b[0m\u001b[0m\n\u001b[1;32m-> 6758\u001b[1;33m             \u001b[0mk\u001b[0m \u001b[1;33m=\u001b[0m \u001b[0mself\u001b[0m\u001b[1;33m.\u001b[0m\u001b[0m_get_label_or_level_values\u001b[0m\u001b[1;33m(\u001b[0m\u001b[0mby\u001b[0m\u001b[1;33m,\u001b[0m \u001b[0maxis\u001b[0m\u001b[1;33m=\u001b[0m\u001b[0maxis\u001b[0m\u001b[1;33m)\u001b[0m\u001b[1;33m\u001b[0m\u001b[1;33m\u001b[0m\u001b[0m\n\u001b[0m\u001b[0;32m   6759\u001b[0m \u001b[1;33m\u001b[0m\u001b[0m\n\u001b[0;32m   6760\u001b[0m             \u001b[1;31m# need to rewrap column in Series to apply key function\u001b[0m\u001b[1;33m\u001b[0m\u001b[1;33m\u001b[0m\u001b[0m\n\u001b[0;32m   6761\u001b[0m             \u001b[1;32mif\u001b[0m \u001b[0mkey\u001b[0m \u001b[1;32mis\u001b[0m \u001b[1;32mnot\u001b[0m \u001b[1;32mNone\u001b[0m\u001b[1;33m:\u001b[0m\u001b[1;33m\u001b[0m\u001b[1;33m\u001b[0m\u001b[0m\n",
      "\u001b[1;32m~\\anaconda3\\Lib\\site-packages\\pandas\\core\\generic.py\u001b[0m in \u001b[0;36m?\u001b[1;34m(self, key, axis)\u001b[0m\n\u001b[0;32m   1774\u001b[0m             \u001b[0mvalues\u001b[0m \u001b[1;33m=\u001b[0m \u001b[0mself\u001b[0m\u001b[1;33m.\u001b[0m\u001b[0mxs\u001b[0m\u001b[1;33m(\u001b[0m\u001b[0mkey\u001b[0m\u001b[1;33m,\u001b[0m \u001b[0maxis\u001b[0m\u001b[1;33m=\u001b[0m\u001b[0mother_axes\u001b[0m\u001b[1;33m[\u001b[0m\u001b[1;36m0\u001b[0m\u001b[1;33m]\u001b[0m\u001b[1;33m)\u001b[0m\u001b[1;33m.\u001b[0m\u001b[0m_values\u001b[0m\u001b[1;33m\u001b[0m\u001b[1;33m\u001b[0m\u001b[0m\n\u001b[0;32m   1775\u001b[0m         \u001b[1;32melif\u001b[0m \u001b[0mself\u001b[0m\u001b[1;33m.\u001b[0m\u001b[0m_is_level_reference\u001b[0m\u001b[1;33m(\u001b[0m\u001b[0mkey\u001b[0m\u001b[1;33m,\u001b[0m \u001b[0maxis\u001b[0m\u001b[1;33m=\u001b[0m\u001b[0maxis\u001b[0m\u001b[1;33m)\u001b[0m\u001b[1;33m:\u001b[0m\u001b[1;33m\u001b[0m\u001b[1;33m\u001b[0m\u001b[0m\n\u001b[0;32m   1776\u001b[0m             \u001b[0mvalues\u001b[0m \u001b[1;33m=\u001b[0m \u001b[0mself\u001b[0m\u001b[1;33m.\u001b[0m\u001b[0maxes\u001b[0m\u001b[1;33m[\u001b[0m\u001b[0maxis\u001b[0m\u001b[1;33m]\u001b[0m\u001b[1;33m.\u001b[0m\u001b[0mget_level_values\u001b[0m\u001b[1;33m(\u001b[0m\u001b[0mkey\u001b[0m\u001b[1;33m)\u001b[0m\u001b[1;33m.\u001b[0m\u001b[0m_values\u001b[0m\u001b[1;33m\u001b[0m\u001b[1;33m\u001b[0m\u001b[0m\n\u001b[0;32m   1777\u001b[0m         \u001b[1;32melse\u001b[0m\u001b[1;33m:\u001b[0m\u001b[1;33m\u001b[0m\u001b[1;33m\u001b[0m\u001b[0m\n\u001b[1;32m-> 1778\u001b[1;33m             \u001b[1;32mraise\u001b[0m \u001b[0mKeyError\u001b[0m\u001b[1;33m(\u001b[0m\u001b[0mkey\u001b[0m\u001b[1;33m)\u001b[0m\u001b[1;33m\u001b[0m\u001b[1;33m\u001b[0m\u001b[0m\n\u001b[0m\u001b[0;32m   1779\u001b[0m \u001b[1;33m\u001b[0m\u001b[0m\n\u001b[0;32m   1780\u001b[0m         \u001b[1;31m# Check for duplicates\u001b[0m\u001b[1;33m\u001b[0m\u001b[1;33m\u001b[0m\u001b[0m\n\u001b[0;32m   1781\u001b[0m         \u001b[1;32mif\u001b[0m \u001b[0mvalues\u001b[0m\u001b[1;33m.\u001b[0m\u001b[0mndim\u001b[0m \u001b[1;33m>\u001b[0m \u001b[1;36m1\u001b[0m\u001b[1;33m:\u001b[0m\u001b[1;33m\u001b[0m\u001b[1;33m\u001b[0m\u001b[0m\n",
      "\u001b[1;31mKeyError\u001b[0m: Index([0, 0, 0, 1, 1, 1, 2, 2, 2], dtype='int64')"
     ]
    }
   ],
   "source": [
    "import pandas as pd\n",
    "\n",
    "# Sample DataFrame\n",
    "data = {\n",
    "    'A': [1, 2, 3],\n",
    "    'B': [4, 5, 6]\n",
    "}\n",
    "\n",
    "df = pd.DataFrame(data)\n",
    "\n",
    "# Print the original DataFrame\n",
    "print(\"Original DataFrame:\")\n",
    "print(df)\n",
    "\n",
    "# Repeat each row 3 times (including the original)\n",
    "repeated_df = pd.concat([df] * 3, ignore_index=True).sort_values(by=df.index.repeat(3)).reset_index(drop=True)\n",
    "\n",
    "# Print the modified DataFrame\n",
    "print(\"\\nModified DataFrame:\")\n",
    "print(repeated_df)\n"
   ]
  },
  {
   "cell_type": "code",
   "execution_count": 3,
   "id": "d3f4ac55",
   "metadata": {},
   "outputs": [
    {
     "name": "stdout",
     "output_type": "stream",
     "text": [
      "Original DataFrame:\n",
      "   A  B\n",
      "0  1  4\n",
      "1  2  5\n",
      "2  3  6\n",
      "\n",
      "Modified DataFrame:\n",
      "   A  B\n",
      "0  1  4\n",
      "1  1  4\n",
      "2  1  4\n",
      "3  2  5\n",
      "4  2  5\n",
      "5  2  5\n",
      "6  3  6\n",
      "7  3  6\n",
      "8  3  6\n"
     ]
    }
   ],
   "source": [
    "import pandas as pd\n",
    "\n",
    "# Sample DataFrame\n",
    "data = {\n",
    "    'A': [1, 2, 3],\n",
    "    'B': [4, 5, 6]\n",
    "}\n",
    "\n",
    "df = pd.DataFrame(data)\n",
    "\n",
    "# Print the original DataFrame\n",
    "print(\"Original DataFrame:\")\n",
    "print(df)\n",
    "\n",
    "# Repeat each row 3 times (including the original)\n",
    "repeated_df = df.loc[df.index.repeat(3)].reset_index(drop=True)\n",
    "\n",
    "# Print the modified DataFrame\n",
    "print(\"\\nModified DataFrame:\")\n",
    "print(repeated_df)\n"
   ]
  },
  {
   "cell_type": "code",
   "execution_count": 4,
   "id": "c8f7e3df",
   "metadata": {},
   "outputs": [
    {
     "name": "stdout",
     "output_type": "stream",
     "text": [
      "Original DataFrame:\n",
      "   A  B\n",
      "0  1  4\n",
      "1  2  5\n",
      "2  3  6\n",
      "\n",
      "Modified DataFrame:\n",
      "   A  B  Flag\n",
      "0  1  4     1\n",
      "1  1  4     0\n",
      "2  1  4     0\n",
      "3  2  5     1\n",
      "4  2  5     0\n",
      "5  2  5     0\n",
      "6  3  6     1\n",
      "7  3  6     0\n",
      "8  3  6     0\n"
     ]
    }
   ],
   "source": [
    "import pandas as pd\n",
    "\n",
    "# Sample DataFrame\n",
    "data = {\n",
    "    'A': [1, 2, 3],\n",
    "    'B': [4, 5, 6]\n",
    "}\n",
    "\n",
    "df = pd.DataFrame(data)\n",
    "\n",
    "# Print the original DataFrame\n",
    "print(\"Original DataFrame:\")\n",
    "print(df)\n",
    "\n",
    "# Repeat each row 3 times (including the original)\n",
    "repeated_df = df.loc[df.index.repeat(3)].reset_index(drop=True)\n",
    "\n",
    "# Create the new column with 0s and set 1 at the specific index for each set of repeated rows\n",
    "repeated_df['Flag'] = 0\n",
    "repeated_df.loc[::3, 'Flag'] = 1  # Setting 1 at the first index of each set of repeated rows\n",
    "\n",
    "# Print the modified DataFrame\n",
    "print(\"\\nModified DataFrame:\")\n",
    "print(repeated_df)\n"
   ]
  },
  {
   "cell_type": "code",
   "execution_count": 5,
   "id": "02e832ec",
   "metadata": {},
   "outputs": [
    {
     "name": "stdout",
     "output_type": "stream",
     "text": [
      "Original DataFrame:\n",
      "   A  B\n",
      "0  1  4\n",
      "1  2  5\n",
      "2  3  6\n",
      "\n",
      "Modified DataFrame:\n",
      "   A  B  Indicator\n",
      "0  1  4          1\n",
      "1  1  4          0\n",
      "2  1  4          0\n",
      "3  2  5          1\n",
      "4  2  5          0\n",
      "5  2  5          0\n",
      "6  3  6          1\n",
      "7  3  6          0\n",
      "8  3  6          0\n"
     ]
    }
   ],
   "source": [
    "import pandas as pd\n",
    "\n",
    "# Sample DataFrame\n",
    "data = {\n",
    "    'A': [1, 2, 3],\n",
    "    'B': [4, 5, 6],\n",
    "    'C':[1,2,1]\n",
    "}\n",
    "\n",
    "df = pd.DataFrame(data)\n",
    "\n",
    "# Print the original DataFrame\n",
    "print(\"Original DataFrame:\")\n",
    "print(df)\n",
    "\n",
    "# Repeat each row 3 times (including the original)\n",
    "repeated_df = df.loc[df.index.repeat(3)].reset_index(drop=True)\n",
    "\n",
    "# Create the new 'Indicator' column with default 0s\n",
    "repeated_df['Indicator'] = 0\n",
    "\n",
    "# Set the 'Indicator' column to 1 at the specific indices\n",
    "for idx, row in df.iterrows():\n",
    "    repeated_df.loc[repeated_df.index[(idx * 3):(idx * 3 + 3)], 'Indicator'] = [1, 0, 0]\n",
    "\n",
    "# Print the modified DataFrame\n",
    "print(\"\\nModified DataFrame:\")\n",
    "print(repeated_df)\n"
   ]
  },
  {
   "cell_type": "code",
   "execution_count": 6,
   "id": "4d5b884e",
   "metadata": {},
   "outputs": [
    {
     "name": "stdout",
     "output_type": "stream",
     "text": [
      "Original DataFrame:\n",
      "   A  B  C\n",
      "0  1  4  1\n",
      "1  2  5  2\n",
      "2  3  6  1\n",
      "\n",
      "Modified DataFrame:\n",
      "   A  B  C  D\n",
      "0  1  4  1  1\n",
      "1  1  4  1  0\n",
      "2  1  4  1  0\n",
      "3  2  5  2  1\n",
      "4  2  5  2  0\n",
      "5  2  5  2  0\n",
      "6  3  6  1  1\n",
      "7  3  6  1  0\n",
      "8  3  6  1  0\n"
     ]
    }
   ],
   "source": [
    "import pandas as pd\n",
    "\n",
    "# Sample DataFrame\n",
    "data = {\n",
    "    'A': [1, 2, 3],\n",
    "    'B': [4, 5, 6],\n",
    "    'C': [1, 2, 1]\n",
    "}\n",
    "\n",
    "df = pd.DataFrame(data)\n",
    "\n",
    "# Print the original DataFrame\n",
    "print(\"Original DataFrame:\")\n",
    "print(df)\n",
    "\n",
    "# Repeat each row 3 times (including the original)\n",
    "repeated_df = df.loc[df.index.repeat(3)].reset_index(drop=True)\n",
    "\n",
    "# Add the new column with 0s and 1s\n",
    "repeated_df['D'] = 0\n",
    "repeated_df.loc[repeated_df.index % 3 == 0, 'D'] = 1\n",
    "\n",
    "# Print the modified DataFrame\n",
    "print(\"\\nModified DataFrame:\")\n",
    "print(repeated_df)\n"
   ]
  },
  {
   "cell_type": "code",
   "execution_count": 9,
   "id": "5bfe13cb",
   "metadata": {},
   "outputs": [
    {
     "name": "stdout",
     "output_type": "stream",
     "text": [
      "Original DataFrame:\n",
      "   A  B  C\n",
      "0  1  4  1\n",
      "1  2  5  2\n",
      "2  3  6  1\n",
      "\n",
      "Modified DataFrame:\n",
      "   A  B  C  D\n",
      "0  1  4  1  1\n",
      "1  1  4  1  0\n",
      "2  1  4  1  0\n",
      "3  2  5  2  0\n",
      "4  2  5  2  1\n",
      "5  2  5  2  0\n",
      "6  3  6  1  1\n",
      "7  3  6  1  0\n",
      "8  3  6  1  0\n",
      "\n",
      "Modified DataFrame:\n",
      "   A  B  C  D  Sum\n",
      "0  1  4  1  1    5\n",
      "1  1  4  1  0    5\n",
      "2  1  4  1  0    5\n",
      "3  2  5  2  0    7\n",
      "4  2  5  2  1    7\n",
      "5  2  5  2  0    7\n",
      "6  3  6  1  1    9\n",
      "7  3  6  1  0    9\n",
      "8  3  6  1  0    9\n"
     ]
    }
   ],
   "source": [
    "import pandas as pd\n",
    "\n",
    "# Sample DataFrame\n",
    "data = {\n",
    "    'A': [1, 2, 3],\n",
    "    'B': [4, 5, 6],\n",
    "    'C': [1, 2, 1]\n",
    "}\n",
    "\n",
    "df = pd.DataFrame(data)\n",
    "\n",
    "# Print the original DataFrame\n",
    "print(\"Original DataFrame:\")\n",
    "print(df)\n",
    "\n",
    "# Repeat each row 3 times (including the original)\n",
    "repeated_df = df.loc[df.index.repeat(3)].reset_index(drop=True)\n",
    "\n",
    "# Add the new column 'D' with 0s\n",
    "repeated_df['D'] = 0\n",
    "\n",
    "# Set the value to 1 at the specified indices\n",
    "for original_index in df.index:\n",
    "    repeated_indices = repeated_df.index[original_index*3 : original_index*3 + 3]\n",
    "    repeated_df.loc[repeated_indices[df.loc[original_index, 'C']-1], 'D'] = 1\n",
    "\n",
    "# Print the modified DataFrame\n",
    "print(\"\\nModified DataFrame:\")\n",
    "print(repeated_df)\n",
    "\n",
    "original_sums = df[['A', 'B']].sum(axis=1)\n",
    "\n",
    "# Repeat the sums to match the repeated rows\n",
    "repeated_sums = original_sums.repeat(3).reset_index(drop=True)\n",
    "\n",
    "# Add the new column 'Sum' to the repeated DataFrame\n",
    "repeated_df['Sum'] = repeated_sums\n",
    "\n",
    "# Print the modified DataFrame\n",
    "print(\"\\nModified DataFrame:\")\n",
    "print(repeated_df)\n"
   ]
  },
  {
   "cell_type": "code",
   "execution_count": 8,
   "id": "ee9a1f5e",
   "metadata": {},
   "outputs": [
    {
     "name": "stdout",
     "output_type": "stream",
     "text": [
      "Original DataFrame:\n",
      "   A  B  C\n",
      "0  1  4  1\n",
      "1  2  5  2\n",
      "2  3  6  1\n",
      "\n",
      "Modified DataFrame:\n",
      "   A  B  C  D  Sum\n",
      "0  1  4  1  1    5\n",
      "1  1  4  1  0    5\n",
      "2  1  4  1  0    5\n",
      "3  2  5  2  0    7\n",
      "4  2  5  2  1    7\n",
      "5  2  5  2  0    7\n",
      "6  3  6  1  1    9\n",
      "7  3  6  1  0    9\n",
      "8  3  6  1  0    9\n"
     ]
    }
   ],
   "source": [
    "import pandas as pd\n",
    "\n",
    "# Sample DataFrame\n",
    "data = {\n",
    "    'A': [1, 2, 3],\n",
    "    'B': [4, 5, 6],\n",
    "    'C': [1, 2, 1]\n",
    "}\n",
    "\n",
    "df = pd.DataFrame(data)\n",
    "\n",
    "# Print the original DataFrame\n",
    "print(\"Original DataFrame:\")\n",
    "print(df)\n",
    "\n",
    "# Repeat each row 3 times (including the original)\n",
    "repeated_df = df.loc[df.index.repeat(3)].reset_index(drop=True)\n",
    "\n",
    "# Add the new column 'D' with 0s\n",
    "repeated_df['D'] = 0\n",
    "\n",
    "# Set the value to 1 at the specified indices\n",
    "for original_index in df.index:\n",
    "    repeated_indices = repeated_df.index[original_index*3 : original_index*3 + 3]\n",
    "    repeated_df.loc[repeated_indices[df.loc[original_index, 'C']-1], 'D'] = 1\n",
    "\n",
    "# Calculate the sum of values of 'A' and 'B' for the same ID\n",
    "original_sums = df[['A', 'B']].sum(axis=1)\n",
    "\n",
    "# Repeat the sums to match the repeated rows\n",
    "repeated_sums = original_sums.repeat(3).reset_index(drop=True)\n",
    "\n",
    "# Add the new column 'Sum' to the repeated DataFrame\n",
    "repeated_df['Sum'] = repeated_sums\n",
    "\n",
    "# Print the modified DataFrame\n",
    "print(\"\\nModified DataFrame:\")\n",
    "print(repeated_df)\n"
   ]
  },
  {
   "cell_type": "code",
   "execution_count": 13,
   "id": "f69c5b03",
   "metadata": {},
   "outputs": [
    {
     "name": "stdout",
     "output_type": "stream",
     "text": [
      "(3, 4)\n",
      "[[12.9643114  21.861517    1.7965846 ]\n",
      " [-2.48467525  1.00508685 -1.47071028]]\n",
      "[21.861517   -1.47071028]\n"
     ]
    }
   ],
   "source": [
    "import numpy as np\n",
    "\n",
    "# Define X and theta matrices\n",
    "X = np.array([\n",
    "    [10, 0, 0,1],\n",
    "    [1, 2, 1,1]\n",
    "])\n",
    "y = np.array([1,2])\n",
    "\n",
    "theta = np.array([\n",
    "    [1.27643114, -0.61920665, -2.72269309, 0.2],\n",
    "    [2.1531517, -0.40006169, -0.67794147 , 0.33],\n",
    "    [0.05752646, -0.7151739, -1.31920894, 1.22132]\n",
    "])\n",
    "print(theta.shape)\n",
    "# Compute z = X * theta\n",
    "z = np.dot(X, theta.T)\n",
    "\n",
    "print(z)\n",
    "\n",
    "ll = (z[np.arange(X.shape[0]), y])\n",
    "print(ll)"
   ]
  },
  {
   "cell_type": "code",
   "execution_count": 8,
   "id": "0c7fb401",
   "metadata": {},
   "outputs": [
    {
     "data": {
      "text/plain": [
       "33.67211432"
      ]
     },
     "execution_count": 8,
     "metadata": {},
     "output_type": "execute_result"
    }
   ],
   "source": [
    "np.sum(np.dot(X, theta.T))"
   ]
  },
  {
   "cell_type": "code",
   "execution_count": 4,
   "id": "e78b0121",
   "metadata": {},
   "outputs": [
    {
     "data": {
      "text/plain": [
       "21.861517"
      ]
     },
     "execution_count": 4,
     "metadata": {},
     "output_type": "execute_result"
    }
   ],
   "source": [
    "10*2.1531517+ 0.33"
   ]
  },
  {
   "cell_type": "code",
   "execution_count": 12,
   "id": "ae89789e",
   "metadata": {},
   "outputs": [
    {
     "name": "stdout",
     "output_type": "stream",
     "text": [
      "[[3.49518370e+05 2.04559516e-03 1.49793908e-12]\n",
      " [2.81536190e+02 1.18303263e-01 4.52659639e-03]]\n"
     ]
    }
   ],
   "source": [
    "print(np.exp(z))"
   ]
  },
  {
   "cell_type": "code",
   "execution_count": 15,
   "id": "df3e8d8d",
   "metadata": {},
   "outputs": [
    {
     "data": {
      "text/plain": [
       "0.0020455951600901407"
      ]
     },
     "execution_count": 15,
     "metadata": {},
     "output_type": "execute_result"
    }
   ],
   "source": [
    "np.exp(-6.1920665)"
   ]
  },
  {
   "cell_type": "code",
   "execution_count": 17,
   "id": "15786e06",
   "metadata": {},
   "outputs": [
    {
     "data": {
      "text/plain": [
       "array([[3.49518372e+05],\n",
       "       [2.81659020e+02]])"
      ]
     },
     "execution_count": 17,
     "metadata": {},
     "output_type": "execute_result"
    }
   ],
   "source": [
    "np.sum(np.exp(z), axis=1, keepdims=True)"
   ]
  },
  {
   "cell_type": "code",
   "execution_count": 18,
   "id": "a362687e",
   "metadata": {},
   "outputs": [
    {
     "name": "stdout",
     "output_type": "stream",
     "text": [
      "[[9.99999994e-01 5.85261126e-09 4.28572344e-18]\n",
      " [9.99563906e-01 4.20022986e-04 1.60711927e-05]]\n"
     ]
    }
   ],
   "source": [
    "print(np.exp(z)/np.sum(np.exp(z), axis=1, keepdims=True))"
   ]
  },
  {
   "cell_type": "code",
   "execution_count": 19,
   "id": "6a0dceea",
   "metadata": {},
   "outputs": [
    {
     "data": {
      "text/plain": [
       "5.852611261304457e-09"
      ]
     },
     "execution_count": 19,
     "metadata": {},
     "output_type": "execute_result"
    }
   ],
   "source": [
    "2.04559516e-03/3.49518372e+05"
   ]
  },
  {
   "cell_type": "code",
   "execution_count": 21,
   "id": "4014a489",
   "metadata": {},
   "outputs": [
    {
     "data": {
      "text/plain": [
       "349800.0310387659"
      ]
     },
     "execution_count": 21,
     "metadata": {},
     "output_type": "execute_result"
    }
   ],
   "source": [
    "np.sum(np.exp(z))"
   ]
  },
  {
   "cell_type": "code",
   "execution_count": 22,
   "id": "1855562c",
   "metadata": {},
   "outputs": [
    {
     "name": "stdout",
     "output_type": "stream",
     "text": [
      "[array([0, 1, 2, 3, 4]), [10, 20, 30, 40, 50]]\n"
     ]
    }
   ],
   "source": [
    "import numpy as np\n",
    "\n",
    "num_samples = 5\n",
    "y = [10, 20, 30, 40, 50]\n",
    "\n",
    "result = [np.arange(num_samples), y]\n",
    "print(result)\n"
   ]
  },
  {
   "cell_type": "code",
   "execution_count": 23,
   "id": "cccb32e3",
   "metadata": {},
   "outputs": [],
   "source": [
    "X_null = np.ones((10, 3))  # Only intercept"
   ]
  },
  {
   "cell_type": "code",
   "execution_count": 25,
   "id": "5a75d244",
   "metadata": {},
   "outputs": [
    {
     "name": "stdout",
     "output_type": "stream",
     "text": [
      "[[1. 1. 1.]\n",
      " [1. 1. 1.]\n",
      " [1. 1. 1.]\n",
      " [1. 1. 1.]\n",
      " [1. 1. 1.]\n",
      " [1. 1. 1.]\n",
      " [1. 1. 1.]\n",
      " [1. 1. 1.]\n",
      " [1. 1. 1.]\n",
      " [1. 1. 1.]]\n"
     ]
    }
   ],
   "source": [
    "print(X_null)"
   ]
  },
  {
   "cell_type": "code",
   "execution_count": null,
   "id": "d2a1491c",
   "metadata": {},
   "outputs": [],
   "source": []
  }
 ],
 "metadata": {
  "kernelspec": {
   "display_name": "Python 3 (ipykernel)",
   "language": "python",
   "name": "python3"
  },
  "language_info": {
   "codemirror_mode": {
    "name": "ipython",
    "version": 3
   },
   "file_extension": ".py",
   "mimetype": "text/x-python",
   "name": "python",
   "nbconvert_exporter": "python",
   "pygments_lexer": "ipython3",
   "version": "3.11.5"
  }
 },
 "nbformat": 4,
 "nbformat_minor": 5
}
