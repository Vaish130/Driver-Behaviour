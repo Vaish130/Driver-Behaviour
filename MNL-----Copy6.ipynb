{
 "cells": [
  {
   "cell_type": "code",
   "execution_count": 18,
   "id": "e90a4746",
   "metadata": {},
   "outputs": [],
   "source": [
    "import urllib.request\n",
    "import pandas as pd\n",
    "import requests\n",
    "import io\n",
    "import numpy as np\n",
    "import seaborn as sns\n",
    "import statsmodels.api as sm\n",
    "from numpy import mean\n",
    "from numpy import std\n",
    "from sklearn.datasets import make_classification\n",
    "from sklearn.model_selection import cross_val_score\n",
    "from sklearn.model_selection import RepeatedStratifiedKFold\n",
    "from sklearn.linear_model import LogisticRegression\n",
    "from matplotlib import pyplot\n"
   ]
  },
  {
   "cell_type": "code",
   "execution_count": null,
   "id": "73b292bb",
   "metadata": {},
   "outputs": [],
   "source": []
  },
  {
   "cell_type": "code",
   "execution_count": 19,
   "id": "98220763",
   "metadata": {},
   "outputs": [],
   "source": [
    "hsb2 = pd.read_csv(\"C:\\\\Users\\\\Admin\\\\Desktop\\\\Vaishnavi\\\\Auto\\\\DriverData2.csv\")"
   ]
  },
  {
   "cell_type": "code",
   "execution_count": 20,
   "id": "0ad8134f",
   "metadata": {},
   "outputs": [
    {
     "data": {
      "text/html": [
       "<div>\n",
       "<style scoped>\n",
       "    .dataframe tbody tr th:only-of-type {\n",
       "        vertical-align: middle;\n",
       "    }\n",
       "\n",
       "    .dataframe tbody tr th {\n",
       "        vertical-align: top;\n",
       "    }\n",
       "\n",
       "    .dataframe thead th {\n",
       "        text-align: right;\n",
       "    }\n",
       "</style>\n",
       "<table border=\"1\" class=\"dataframe\">\n",
       "  <thead>\n",
       "    <tr style=\"text-align: right;\">\n",
       "      <th></th>\n",
       "      <th>ID</th>\n",
       "      <th>SubVehID</th>\n",
       "      <th>Choice</th>\n",
       "      <th>Gap</th>\n",
       "      <th>RelativeSpeed</th>\n",
       "      <th>TW</th>\n",
       "    </tr>\n",
       "  </thead>\n",
       "  <tbody>\n",
       "    <tr>\n",
       "      <th>0</th>\n",
       "      <td>1</td>\n",
       "      <td>9</td>\n",
       "      <td>2</td>\n",
       "      <td>12.0530</td>\n",
       "      <td>-0.927</td>\n",
       "      <td>0</td>\n",
       "    </tr>\n",
       "    <tr>\n",
       "      <th>1</th>\n",
       "      <td>2</td>\n",
       "      <td>13</td>\n",
       "      <td>1</td>\n",
       "      <td>16.3285</td>\n",
       "      <td>2.448</td>\n",
       "      <td>1</td>\n",
       "    </tr>\n",
       "    <tr>\n",
       "      <th>2</th>\n",
       "      <td>3</td>\n",
       "      <td>13</td>\n",
       "      <td>3</td>\n",
       "      <td>15.6910</td>\n",
       "      <td>1.845</td>\n",
       "      <td>1</td>\n",
       "    </tr>\n",
       "    <tr>\n",
       "      <th>3</th>\n",
       "      <td>4</td>\n",
       "      <td>13</td>\n",
       "      <td>1</td>\n",
       "      <td>15.0280</td>\n",
       "      <td>0.999</td>\n",
       "      <td>1</td>\n",
       "    </tr>\n",
       "    <tr>\n",
       "      <th>4</th>\n",
       "      <td>5</td>\n",
       "      <td>36</td>\n",
       "      <td>2</td>\n",
       "      <td>12.9030</td>\n",
       "      <td>0.144</td>\n",
       "      <td>0</td>\n",
       "    </tr>\n",
       "  </tbody>\n",
       "</table>\n",
       "</div>"
      ],
      "text/plain": [
       "   ID  SubVehID  Choice      Gap  RelativeSpeed  TW\n",
       "0   1         9       2  12.0530         -0.927   0\n",
       "1   2        13       1  16.3285          2.448   1\n",
       "2   3        13       3  15.6910          1.845   1\n",
       "3   4        13       1  15.0280          0.999   1\n",
       "4   5        36       2  12.9030          0.144   0"
      ]
     },
     "execution_count": 20,
     "metadata": {},
     "output_type": "execute_result"
    }
   ],
   "source": [
    "hsb2.head()"
   ]
  },
  {
   "cell_type": "code",
   "execution_count": 21,
   "id": "464badf0",
   "metadata": {},
   "outputs": [
    {
     "data": {
      "text/plain": [
       "ID                 int64\n",
       "SubVehID           int64\n",
       "Choice             int64\n",
       "Gap              float64\n",
       "RelativeSpeed    float64\n",
       "TW                 int64\n",
       "dtype: object"
      ]
     },
     "execution_count": 21,
     "metadata": {},
     "output_type": "execute_result"
    }
   ],
   "source": [
    "hsb2.dtypes"
   ]
  },
  {
   "cell_type": "code",
   "execution_count": 22,
   "id": "e86c0a0d",
   "metadata": {
    "scrolled": true
   },
   "outputs": [],
   "source": [
    "hsb2[\"Gap\"] = hsb2[\"Gap\"].astype('int64')\n",
    "hsb2[\"RelativeSpeed\"] = hsb2[\"RelativeSpeed\"].astype('int64')\n",
    "hsb2[\"TW\"] = hsb2[\"TW\"].astype('category')\n",
    "# Change the reference category for the dependent variable\n",
    "# Change the reference category for the dependent variable\n",
    "\n",
    "\n"
   ]
  },
  {
   "cell_type": "code",
   "execution_count": 6,
   "id": "822346ec",
   "metadata": {},
   "outputs": [
    {
     "data": {
      "text/plain": [
       "ID                  int64\n",
       "SubVehID            int64\n",
       "Choice              int64\n",
       "Gap                 int64\n",
       "RelativeSpeed       int64\n",
       "TW               category\n",
       "dtype: object"
      ]
     },
     "execution_count": 6,
     "metadata": {},
     "output_type": "execute_result"
    }
   ],
   "source": [
    "hsb2.dtypes"
   ]
  },
  {
   "cell_type": "code",
   "execution_count": 7,
   "id": "0d84c9d6",
   "metadata": {},
   "outputs": [],
   "source": [
    "hsb3 = hsb2\n"
   ]
  },
  {
   "cell_type": "code",
   "execution_count": 8,
   "id": "b420e6b1",
   "metadata": {},
   "outputs": [
    {
     "data": {
      "text/html": [
       "<div>\n",
       "<style scoped>\n",
       "    .dataframe tbody tr th:only-of-type {\n",
       "        vertical-align: middle;\n",
       "    }\n",
       "\n",
       "    .dataframe tbody tr th {\n",
       "        vertical-align: top;\n",
       "    }\n",
       "\n",
       "    .dataframe thead th {\n",
       "        text-align: right;\n",
       "    }\n",
       "</style>\n",
       "<table border=\"1\" class=\"dataframe\">\n",
       "  <thead>\n",
       "    <tr style=\"text-align: right;\">\n",
       "      <th></th>\n",
       "      <th>ID</th>\n",
       "      <th>SubVehID</th>\n",
       "      <th>Choice</th>\n",
       "      <th>Gap</th>\n",
       "      <th>RelativeSpeed</th>\n",
       "      <th>TW</th>\n",
       "    </tr>\n",
       "  </thead>\n",
       "  <tbody>\n",
       "    <tr>\n",
       "      <th>0</th>\n",
       "      <td>1</td>\n",
       "      <td>9</td>\n",
       "      <td>2</td>\n",
       "      <td>12</td>\n",
       "      <td>0</td>\n",
       "      <td>0</td>\n",
       "    </tr>\n",
       "    <tr>\n",
       "      <th>1</th>\n",
       "      <td>2</td>\n",
       "      <td>13</td>\n",
       "      <td>1</td>\n",
       "      <td>16</td>\n",
       "      <td>2</td>\n",
       "      <td>1</td>\n",
       "    </tr>\n",
       "    <tr>\n",
       "      <th>2</th>\n",
       "      <td>3</td>\n",
       "      <td>13</td>\n",
       "      <td>3</td>\n",
       "      <td>15</td>\n",
       "      <td>1</td>\n",
       "      <td>1</td>\n",
       "    </tr>\n",
       "    <tr>\n",
       "      <th>3</th>\n",
       "      <td>4</td>\n",
       "      <td>13</td>\n",
       "      <td>1</td>\n",
       "      <td>15</td>\n",
       "      <td>0</td>\n",
       "      <td>1</td>\n",
       "    </tr>\n",
       "    <tr>\n",
       "      <th>4</th>\n",
       "      <td>5</td>\n",
       "      <td>36</td>\n",
       "      <td>2</td>\n",
       "      <td>12</td>\n",
       "      <td>0</td>\n",
       "      <td>0</td>\n",
       "    </tr>\n",
       "  </tbody>\n",
       "</table>\n",
       "</div>"
      ],
      "text/plain": [
       "   ID  SubVehID  Choice  Gap  RelativeSpeed TW\n",
       "0   1         9       2   12              0  0\n",
       "1   2        13       1   16              2  1\n",
       "2   3        13       3   15              1  1\n",
       "3   4        13       1   15              0  1\n",
       "4   5        36       2   12              0  0"
      ]
     },
     "execution_count": 8,
     "metadata": {},
     "output_type": "execute_result"
    }
   ],
   "source": [
    "hsb3.head()"
   ]
  },
  {
   "cell_type": "code",
   "execution_count": null,
   "id": "5e77527c",
   "metadata": {},
   "outputs": [],
   "source": []
  },
  {
   "cell_type": "code",
   "execution_count": 15,
   "id": "ffc4cc6e",
   "metadata": {},
   "outputs": [
    {
     "name": "stdout",
     "output_type": "stream",
     "text": [
      "0     2\n",
      "1     1\n",
      "2     3\n",
      "3     1\n",
      "4     2\n",
      "     ..\n",
      "94    1\n",
      "95    2\n",
      "96    1\n",
      "97    3\n",
      "98    3\n",
      "Name: Choice, Length: 99, dtype: int64\n"
     ]
    }
   ],
   "source": [
    "y = hsb3['Choice']\n",
    "X = hsb3.drop(['ID','SubVehID','Choice'],axis=1)\n",
    "print(y)"
   ]
  },
  {
   "cell_type": "code",
   "execution_count": 124,
   "id": "3c4ecb5e",
   "metadata": {},
   "outputs": [
    {
     "name": "stdout",
     "output_type": "stream",
     "text": [
      "Optimization terminated successfully.\n",
      "         Current function value: 0.865042\n",
      "         Iterations 5\n",
      "                          MNLogit Regression Results                          \n",
      "==============================================================================\n",
      "Dep. Variable:                 Choice   No. Observations:                   99\n",
      "Model:                        MNLogit   Df Residuals:                       93\n",
      "Method:                           MLE   Df Model:                            4\n",
      "Date:                Tue, 11 Jun 2024   Pseudo R-squ.:                  0.1010\n",
      "Time:                        01:35:54   Log-Likelihood:                -85.639\n",
      "converged:                       True   LL-Null:                       -95.264\n",
      "Covariance Type:            nonrobust   LLR p-value:                 0.0007021\n",
      "=================================================================================\n",
      "     Choice=2       coef    std err          z      P>|z|      [0.025      0.975]\n",
      "---------------------------------------------------------------------------------\n",
      "Gap              -0.0474      0.031     -1.554      0.120      -0.107       0.012\n",
      "RelativeSpeed     0.2630      0.207      1.270      0.204      -0.143       0.669\n",
      "TW               -0.4902      0.680     -0.721      0.471      -1.824       0.843\n",
      "---------------------------------------------------------------------------------\n",
      "     Choice=3       coef    std err          z      P>|z|      [0.025      0.975]\n",
      "---------------------------------------------------------------------------------\n",
      "Gap               0.0494      0.022      2.278      0.023       0.007       0.092\n",
      "RelativeSpeed     0.5262      0.166      3.162      0.002       0.200       0.852\n",
      "TW               -0.7457      0.496     -1.504      0.133      -1.718       0.226\n",
      "=================================================================================\n"
     ]
    }
   ],
   "source": [
    "# Using the multinomial logit model from statsmodels\n",
    "model = sm.MNLogit(y, X)\n",
    "result = model.fit()\n",
    "print(result.summary())\n",
    "# Add a constant to the independent variables\n",
    "\n",
    "\n"
   ]
  },
  {
   "cell_type": "code",
   "execution_count": 17,
   "id": "ea83f8c9",
   "metadata": {},
   "outputs": [
    {
     "name": "stdout",
     "output_type": "stream",
     "text": [
      "   Intercept       Gap  RelativeSpeed        TW\n",
      "2   4.662032 -0.447137       0.120590 -0.445737\n",
      "1  -1.862648  0.059761      -0.507958  0.743542\n",
      "3  -2.406497  0.182667       0.391136 -0.521945\n",
      "McFadden's pseudo-R^2: 0.12685899834237124\n"
     ]
    }
   ],
   "source": [
    "\n",
    "\n",
    "X = sm.add_constant(X)\n",
    "\n",
    "# Fit separate binary logistic regression models for each category against all others\n",
    "unique_choices = y.unique()\n",
    "coefficients = {}\n",
    "\n",
    "for choice in unique_choices:\n",
    "    y_binary = (y == choice).astype(int)\n",
    "    model = sm.Logit(y_binary, X)\n",
    "    result = model.fit(disp=False)\n",
    "    coefficients[choice] = result.params\n",
    "\n",
    "# Combine coefficients into a single DataFrame\n",
    "coefficients_df = pd.DataFrame(coefficients).T\n",
    "coefficients_df.columns = ['Intercept'] + list(X.columns[1:])\n",
    "\n",
    "print(coefficients_df)\n",
    "\n",
    "X_null = sm.add_constant(pd.DataFrame({'Intercept': [1] * len(y)}))\n",
    "null_coefficients = {}\n",
    "\n",
    "for choice in unique_choices:\n",
    "    y_null_binary = (y == choice).astype(int)\n",
    "    model = sm.Logit(y_null_binary, X_null)\n",
    "    null_result = model.fit(disp=False)\n",
    "    null_coefficients[choice] = null_result.params\n",
    "\n",
    "# Combine coefficients into a single DataFrame\n",
    "coefficients_df = pd.DataFrame(null_coefficients).T\n",
    "coefficients_df.columns = ['Intercept'] + list(X_null.columns[1:])\n",
    "\n",
    "# Calculate McFadden's pseudo-R^2\n",
    "LL_model = result.llf  # Log-likelihood of the fitted model\n",
    "LL_null = null_result.llf  # Log-likelihood of the null model\n",
    "rho_squared = 1 - (LL_model / LL_null)\n",
    "\n",
    "# Print the result\n",
    "print(\"McFadden's pseudo-R^2:\", rho_squared)\n"
   ]
  },
  {
   "cell_type": "code",
   "execution_count": 56,
   "id": "9fcbb512",
   "metadata": {},
   "outputs": [
    {
     "name": "stdout",
     "output_type": "stream",
     "text": [
      "Optimization terminated successfully.\n",
      "         Current function value: 0.847990\n",
      "         Iterations 6\n"
     ]
    },
    {
     "ename": "TypeError",
     "evalue": "Index(...) must be called with a collection of some kind, 'Choice' was passed",
     "output_type": "error",
     "traceback": [
      "\u001b[1;31m---------------------------------------------------------------------------\u001b[0m",
      "\u001b[1;31mTypeError\u001b[0m                                 Traceback (most recent call last)",
      "Cell \u001b[1;32mIn[56], line 15\u001b[0m\n\u001b[0;32m     12\u001b[0m categories \u001b[38;5;241m=\u001b[39m result\u001b[38;5;241m.\u001b[39mmodel\u001b[38;5;241m.\u001b[39mendog_names\n\u001b[0;32m     14\u001b[0m \u001b[38;5;66;03m# Prepare the coefficients DataFrame\u001b[39;00m\n\u001b[1;32m---> 15\u001b[0m coef_df \u001b[38;5;241m=\u001b[39m pd\u001b[38;5;241m.\u001b[39mDataFrame(coefficients\u001b[38;5;241m.\u001b[39mT, columns\u001b[38;5;241m=\u001b[39mcategories)\n\u001b[0;32m     17\u001b[0m \u001b[38;5;66;03m# Add variable names to the index\u001b[39;00m\n\u001b[0;32m     18\u001b[0m coef_df\u001b[38;5;241m.\u001b[39mindex \u001b[38;5;241m=\u001b[39m [\u001b[38;5;124m'\u001b[39m\u001b[38;5;124mIntercept\u001b[39m\u001b[38;5;124m'\u001b[39m] \u001b[38;5;241m+\u001b[39m \u001b[38;5;28mlist\u001b[39m(X\u001b[38;5;241m.\u001b[39mcolumns[\u001b[38;5;241m1\u001b[39m:])\n",
      "File \u001b[1;32m~\\anaconda3\\Lib\\site-packages\\pandas\\core\\frame.py:703\u001b[0m, in \u001b[0;36mDataFrame.__init__\u001b[1;34m(self, data, index, columns, dtype, copy)\u001b[0m\n\u001b[0;32m    700\u001b[0m     data \u001b[38;5;241m=\u001b[39m []\n\u001b[0;32m    702\u001b[0m \u001b[38;5;28;01mif\u001b[39;00m \u001b[38;5;28misinstance\u001b[39m(data, (BlockManager, ArrayManager)):\n\u001b[1;32m--> 703\u001b[0m     mgr \u001b[38;5;241m=\u001b[39m \u001b[38;5;28mself\u001b[39m\u001b[38;5;241m.\u001b[39m_init_mgr(\n\u001b[0;32m    704\u001b[0m         data, axes\u001b[38;5;241m=\u001b[39m{\u001b[38;5;124m\"\u001b[39m\u001b[38;5;124mindex\u001b[39m\u001b[38;5;124m\"\u001b[39m: index, \u001b[38;5;124m\"\u001b[39m\u001b[38;5;124mcolumns\u001b[39m\u001b[38;5;124m\"\u001b[39m: columns}, dtype\u001b[38;5;241m=\u001b[39mdtype, copy\u001b[38;5;241m=\u001b[39mcopy\n\u001b[0;32m    705\u001b[0m     )\n\u001b[0;32m    707\u001b[0m \u001b[38;5;28;01melif\u001b[39;00m \u001b[38;5;28misinstance\u001b[39m(data, \u001b[38;5;28mdict\u001b[39m):\n\u001b[0;32m    708\u001b[0m     \u001b[38;5;66;03m# GH#38939 de facto copy defaults to False only in non-dict cases\u001b[39;00m\n\u001b[0;32m    709\u001b[0m     mgr \u001b[38;5;241m=\u001b[39m dict_to_mgr(data, index, columns, dtype\u001b[38;5;241m=\u001b[39mdtype, copy\u001b[38;5;241m=\u001b[39mcopy, typ\u001b[38;5;241m=\u001b[39mmanager)\n",
      "File \u001b[1;32m~\\anaconda3\\Lib\\site-packages\\pandas\\core\\generic.py:294\u001b[0m, in \u001b[0;36mNDFrame._init_mgr\u001b[1;34m(cls, mgr, axes, dtype, copy)\u001b[0m\n\u001b[0;32m    292\u001b[0m \u001b[38;5;28;01mfor\u001b[39;00m a, axe \u001b[38;5;129;01min\u001b[39;00m axes\u001b[38;5;241m.\u001b[39mitems():\n\u001b[0;32m    293\u001b[0m     \u001b[38;5;28;01mif\u001b[39;00m axe \u001b[38;5;129;01mis\u001b[39;00m \u001b[38;5;129;01mnot\u001b[39;00m \u001b[38;5;28;01mNone\u001b[39;00m:\n\u001b[1;32m--> 294\u001b[0m         axe \u001b[38;5;241m=\u001b[39m ensure_index(axe)\n\u001b[0;32m    295\u001b[0m         bm_axis \u001b[38;5;241m=\u001b[39m \u001b[38;5;28mcls\u001b[39m\u001b[38;5;241m.\u001b[39m_get_block_manager_axis(a)\n\u001b[0;32m    296\u001b[0m         mgr \u001b[38;5;241m=\u001b[39m mgr\u001b[38;5;241m.\u001b[39mreindex_axis(axe, axis\u001b[38;5;241m=\u001b[39mbm_axis)\n",
      "File \u001b[1;32m~\\anaconda3\\Lib\\site-packages\\pandas\\core\\indexes\\base.py:7128\u001b[0m, in \u001b[0;36mensure_index\u001b[1;34m(index_like, copy)\u001b[0m\n\u001b[0;32m   7126\u001b[0m         \u001b[38;5;28;01mreturn\u001b[39;00m Index(index_like, copy\u001b[38;5;241m=\u001b[39mcopy, tupleize_cols\u001b[38;5;241m=\u001b[39m\u001b[38;5;28;01mFalse\u001b[39;00m)\n\u001b[0;32m   7127\u001b[0m \u001b[38;5;28;01melse\u001b[39;00m:\n\u001b[1;32m-> 7128\u001b[0m     \u001b[38;5;28;01mreturn\u001b[39;00m Index(index_like, copy\u001b[38;5;241m=\u001b[39mcopy)\n",
      "File \u001b[1;32m~\\anaconda3\\Lib\\site-packages\\pandas\\core\\indexes\\base.py:516\u001b[0m, in \u001b[0;36mIndex.__new__\u001b[1;34m(cls, data, dtype, copy, name, tupleize_cols)\u001b[0m\n\u001b[0;32m    513\u001b[0m         data \u001b[38;5;241m=\u001b[39m com\u001b[38;5;241m.\u001b[39masarray_tuplesafe(data, dtype\u001b[38;5;241m=\u001b[39m_dtype_obj)\n\u001b[0;32m    515\u001b[0m \u001b[38;5;28;01melif\u001b[39;00m is_scalar(data):\n\u001b[1;32m--> 516\u001b[0m     \u001b[38;5;28;01mraise\u001b[39;00m \u001b[38;5;28mcls\u001b[39m\u001b[38;5;241m.\u001b[39m_raise_scalar_data_error(data)\n\u001b[0;32m    517\u001b[0m \u001b[38;5;28;01melif\u001b[39;00m \u001b[38;5;28mhasattr\u001b[39m(data, \u001b[38;5;124m\"\u001b[39m\u001b[38;5;124m__array__\u001b[39m\u001b[38;5;124m\"\u001b[39m):\n\u001b[0;32m    518\u001b[0m     \u001b[38;5;28;01mreturn\u001b[39;00m Index(np\u001b[38;5;241m.\u001b[39masarray(data), dtype\u001b[38;5;241m=\u001b[39mdtype, copy\u001b[38;5;241m=\u001b[39mcopy, name\u001b[38;5;241m=\u001b[39mname)\n",
      "File \u001b[1;32m~\\anaconda3\\Lib\\site-packages\\pandas\\core\\indexes\\base.py:5066\u001b[0m, in \u001b[0;36mIndex._raise_scalar_data_error\u001b[1;34m(cls, data)\u001b[0m\n\u001b[0;32m   5061\u001b[0m \u001b[38;5;129m@final\u001b[39m\n\u001b[0;32m   5062\u001b[0m \u001b[38;5;129m@classmethod\u001b[39m\n\u001b[0;32m   5063\u001b[0m \u001b[38;5;28;01mdef\u001b[39;00m \u001b[38;5;21m_raise_scalar_data_error\u001b[39m(\u001b[38;5;28mcls\u001b[39m, data):\n\u001b[0;32m   5064\u001b[0m     \u001b[38;5;66;03m# We return the TypeError so that we can raise it from the constructor\u001b[39;00m\n\u001b[0;32m   5065\u001b[0m     \u001b[38;5;66;03m#  in order to keep mypy happy\u001b[39;00m\n\u001b[1;32m-> 5066\u001b[0m     \u001b[38;5;28;01mraise\u001b[39;00m \u001b[38;5;167;01mTypeError\u001b[39;00m(\n\u001b[0;32m   5067\u001b[0m         \u001b[38;5;124mf\u001b[39m\u001b[38;5;124m\"\u001b[39m\u001b[38;5;132;01m{\u001b[39;00m\u001b[38;5;28mcls\u001b[39m\u001b[38;5;241m.\u001b[39m\u001b[38;5;18m__name__\u001b[39m\u001b[38;5;132;01m}\u001b[39;00m\u001b[38;5;124m(...) must be called with a collection of some \u001b[39m\u001b[38;5;124m\"\u001b[39m\n\u001b[0;32m   5068\u001b[0m         \u001b[38;5;124mf\u001b[39m\u001b[38;5;124m\"\u001b[39m\u001b[38;5;124mkind, \u001b[39m\u001b[38;5;132;01m{\u001b[39;00m\u001b[38;5;28mrepr\u001b[39m(data)\u001b[38;5;132;01m}\u001b[39;00m\u001b[38;5;124m was passed\u001b[39m\u001b[38;5;124m\"\u001b[39m\n\u001b[0;32m   5069\u001b[0m     )\n",
      "\u001b[1;31mTypeError\u001b[0m: Index(...) must be called with a collection of some kind, 'Choice' was passed"
     ]
    }
   ],
   "source": [
    "# Add a constant to the independent variables\n",
    "X = sm.add_constant(X)\n",
    "\n",
    "# Fit the multinomial logit model\n",
    "model = sm.MNLogit(y, X)\n",
    "result = model.fit()\n",
    "\n",
    "# Get the coefficients for all choices\n",
    "coefficients = result.params\n",
    "\n",
    "# Get the categories in the outcome variable\n",
    "categories = result.model.endog_names\n",
    "\n",
    "# Prepare the coefficients DataFrame\n",
    "coef_df = pd.DataFrame(coefficients.T, columns=categories)\n",
    "\n",
    "# Add variable names to the index\n",
    "coef_df.index = ['Intercept'] + list(X.columns[1:])\n",
    "\n",
    "# Transpose the DataFrame to have choices as rows and coefficients as columns\n",
    "coef_df = coef_df.T\n",
    "\n",
    "print(coef_df)"
   ]
  },
  {
   "cell_type": "code",
   "execution_count": 10,
   "id": "66d1f5b7",
   "metadata": {},
   "outputs": [
    {
     "name": "stdout",
     "output_type": "stream",
     "text": [
      "Accuracy: 0.6161616161616161\n",
      "[-1.66867093  3.53953787 -1.87086693]\n",
      "[[ 0.11599863 -0.31687984  0.4304196 ]\n",
      " [-0.29236982  0.11154146 -0.19914183]\n",
      " [ 0.17637119  0.20533838 -0.23127777]]\n"
     ]
    }
   ],
   "source": [
    "import numpy as np\n",
    "from sklearn.linear_model import LogisticRegression\n",
    "from sklearn.metrics import accuracy_score\n",
    "\n",
    "\n",
    "\n",
    "# Create a multinomial logistic regression model\n",
    "model = LogisticRegression(multi_class='multinomial', solver='lbfgs')\n",
    "\n",
    "# Fit the model to the data\n",
    "model.fit(X, y)\n",
    "\n",
    "# Predict the class labels for the same data\n",
    "y_pred = model.predict(X)\n",
    "\n",
    "# Evaluate the model\n",
    "accuracy = accuracy_score(y, y_pred)\n",
    "print(\"Accuracy:\", accuracy)\n",
    "print(model.intercept_)\n",
    "print(model.coef_)"
   ]
  },
  {
   "cell_type": "code",
   "execution_count": 10,
   "id": "aeb98b5a",
   "metadata": {},
   "outputs": [
    {
     "name": "stdout",
     "output_type": "stream",
     "text": [
      "Rho-squared: 0.11841308422037378\n"
     ]
    }
   ],
   "source": [
    "import numpy as np\n",
    "from sklearn.linear_model import LogisticRegression\n",
    "from sklearn.metrics import log_loss\n",
    "\n",
    "# Sample data\n",
    "\n",
    "\n",
    "# Create a multinomial logistic regression model\n",
    "model = LogisticRegression(multi_class='multinomial', solver='lbfgs', penalty='l2', \n",
    "                           C=1.0, max_iter=1000000)\n",
    "\n",
    "# Fit the model to the data\n",
    "model.fit(X, y)\n",
    "\n",
    "# Get the log-likelihood of the fitted model\n",
    "y_prob = model.predict_proba(X)\n",
    "LL_model = -log_loss(y, y_prob, normalize=False)\n",
    "\n",
    "# Fit the null model (only an intercept)\n",
    "null_model = LogisticRegression(multi_class='multinomial', solver='lbfgs', penalty='l2', \n",
    "                                C=1.0, max_iter=1000000, fit_intercept=True)\n",
    "X_null = np.ones((X.shape[0], 1))  # Only intercept\n",
    "null_model.fit(X_null, y)\n",
    "\n",
    "# Get the log-likelihood of the null model\n",
    "y_null_prob = null_model.predict_proba(X_null)\n",
    "LL_null = -log_loss(y, y_null_prob, normalize=False)\n",
    "\n",
    "# Compute rho-squared\n",
    "rho_squared = 1 - (LL_model / LL_null)\n",
    "print(\"Rho-squared:\", rho_squared)\n"
   ]
  },
  {
   "cell_type": "code",
   "execution_count": 34,
   "id": "27f0e631",
   "metadata": {},
   "outputs": [
    {
     "name": "stdout",
     "output_type": "stream",
     "text": [
      "Mean Cross-Validation Score: 0.63375\n"
     ]
    }
   ],
   "source": [
    "from sklearn.model_selection import cross_val_score\n",
    "\n",
    "# Perform cross-validation\n",
    "cv_scores = cross_val_score(model, X, y, cv=5, scoring='accuracy')\n",
    "\n",
    "# Compute mean of cross-validation scores\n",
    "mean_cv_score = cv_scores.mean()\n",
    "print(\"Mean Cross-Validation Score:\", mean_cv_score)\n"
   ]
  },
  {
   "cell_type": "code",
   "execution_count": 20,
   "id": "60f34a8e",
   "metadata": {},
   "outputs": [
    {
     "name": "stdout",
     "output_type": "stream",
     "text": [
      "Mean Accuracy: 0.610 (0.124)\n"
     ]
    }
   ],
   "source": [
    "# define the multinomial logistic regression model with a default penalty\n",
    "model = LogisticRegression(multi_class='multinomial', solver='lbfgs', penalty='l2', \n",
    "                           C=1.0, max_iter = 1000000)\n",
    "# define the model evaluation procedure\n",
    "cv = RepeatedStratifiedKFold(n_splits=10, n_repeats=3, random_state=1)\n",
    "# evaluate the model and collect the scores\n",
    "n_scores = cross_val_score(model, X, y, scoring='accuracy', cv=cv, n_jobs=-1)\n",
    "# report the model performance\n",
    "print('Mean Accuracy: %.3f (%.3f)' % (mean(n_scores), std(n_scores)))"
   ]
  },
  {
   "cell_type": "code",
   "execution_count": 21,
   "id": "21ec1842",
   "metadata": {},
   "outputs": [],
   "source": [
    "result = model.fit(X, y)"
   ]
  },
  {
   "cell_type": "code",
   "execution_count": 22,
   "id": "16d283b8",
   "metadata": {},
   "outputs": [
    {
     "name": "stdout",
     "output_type": "stream",
     "text": [
      "[-1.66867093  3.53953787 -1.87086693]\n",
      "[[ 0.11599863 -0.31687984  0.4304196 ]\n",
      " [-0.29236982  0.11154146 -0.19914183]\n",
      " [ 0.17637119  0.20533838 -0.23127777]]\n"
     ]
    }
   ],
   "source": [
    "print(result.intercept_)\n",
    "print(result.coef_)"
   ]
  },
  {
   "cell_type": "code",
   "execution_count": 36,
   "id": "405144eb",
   "metadata": {},
   "outputs": [],
   "source": [
    "summary = pd.DataFrame(zip(X.columns, np.transpose(result.coef_.tolist()[0])), \n",
    "                       columns=['features', 'coef'])"
   ]
  },
  {
   "cell_type": "code",
   "execution_count": 37,
   "id": "f91d55f7",
   "metadata": {},
   "outputs": [
    {
     "name": "stdout",
     "output_type": "stream",
     "text": [
      "        features      coef\n",
      "0            Gap  0.115999\n",
      "1  RelativeSpeed -0.316880\n",
      "2             TW  0.430420\n"
     ]
    }
   ],
   "source": [
    "print(summary)"
   ]
  },
  {
   "cell_type": "code",
   "execution_count": 19,
   "id": "4e63f304",
   "metadata": {},
   "outputs": [],
   "source": [
    "p1= []\n",
    "p2 = []\n",
    "p3 = []\n",
    "# Initialize an empty list to store predicted probabilities\n",
    "for i in range(len(hsb2.ID)):\n",
    "    row = X.iloc[i:i+1, :]  # Select a single row from the DataFrame\n",
    "    # Predict a multinomial probability distribution\n",
    "    yhat = model.predict_proba(row)\n",
    "    # Summarize the predicted probabilities and append to the list\n",
    "    p1.append(yhat[0][0])\n",
    "    p2.append(yhat[0][1])\n",
    "    p3.append(yhat[0][2])\n",
    "\n",
    "hsb2['P1'] = p1\n",
    "hsb2['P2'] = p2\n",
    "hsb2['P3'] = p3\n",
    "\n",
    "\n",
    "\n",
    "\n",
    "    "
   ]
  },
  {
   "cell_type": "code",
   "execution_count": 20,
   "id": "45b5bbc7",
   "metadata": {},
   "outputs": [
    {
     "name": "stdout",
     "output_type": "stream",
     "text": [
      "Predicted Class: 3\n"
     ]
    }
   ],
   "source": [
    "# predict the class label\n",
    "yhat = model.predict(row)\n",
    "# summarize the predicted class\n",
    "print('Predicted Class: %d' % yhat[0])\n",
    "\n",
    "c = []\n",
    "# Initialize an empty list to store predicted probabilities\n",
    "for i in range(len(hsb2.ID)):\n",
    "    row = X.iloc[i:i+1, :]  # Select a single row from the DataFrame\n",
    "    # Predict a multinomial probability distribution\n",
    "    yhat = model.predict(row)\n",
    "    # Summarize the predicted probabilities and append to the list\n",
    "    c.append(yhat[0])\n",
    "    \n",
    "\n",
    "hsb2['Predicted'] = c"
   ]
  },
  {
   "cell_type": "code",
   "execution_count": 21,
   "id": "863975fd",
   "metadata": {},
   "outputs": [
    {
     "name": "stdout",
     "output_type": "stream",
     "text": [
      "        ID  Choice  Gap  RelativeSpeed TW        P1        P2        P3  \\\n",
      "0        1       2   12              0  0  0.529563  0.145174  0.325263   \n",
      "1        2       1   16              2  1  0.200624  0.099450  0.699926   \n",
      "2        3       3   15              1  1  0.333248  0.130143  0.536609   \n",
      "3        4       1   15              0  1  0.429973  0.147559  0.422469   \n",
      "4        5       2   12              0  0  0.529563  0.145174  0.325263   \n",
      "...    ...     ...  ...            ... ..       ...       ...       ...   \n",
      "2395  2396       1   13              1  1  0.447387  0.140431  0.412182   \n",
      "2396  2397       3   13              1  1  0.447387  0.140431  0.412182   \n",
      "2397  2398       1   13              0  1  0.544068  0.150073  0.305859   \n",
      "2398  2399       3   15              3  1  0.171511  0.086738  0.741751   \n",
      "2399  2400       2   15              4  1  0.115431  0.066431  0.818138   \n",
      "\n",
      "      Predicted  \n",
      "0             1  \n",
      "1             3  \n",
      "2             3  \n",
      "3             1  \n",
      "4             1  \n",
      "...         ...  \n",
      "2395          1  \n",
      "2396          1  \n",
      "2397          1  \n",
      "2398          3  \n",
      "2399          3  \n",
      "\n",
      "[2400 rows x 9 columns]\n"
     ]
    }
   ],
   "source": [
    "print(hsb2.drop(['SubVehID'],axis=1))"
   ]
  },
  {
   "cell_type": "code",
   "execution_count": 30,
   "id": "0607802b",
   "metadata": {},
   "outputs": [
    {
     "name": "stdout",
     "output_type": "stream",
     "text": [
      "Requirement already satisfied: scipy in c:\\users\\admin\\anaconda3\\lib\\site-packages (1.11.1)Note: you may need to restart the kernel to use updated packages.\n",
      "\n",
      "Requirement already satisfied: numpy<1.28.0,>=1.21.6 in c:\\users\\admin\\anaconda3\\lib\\site-packages (from scipy) (1.24.3)\n"
     ]
    }
   ],
   "source": [
    "pip install scipy\n"
   ]
  },
  {
   "cell_type": "code",
   "execution_count": 45,
   "id": "ca4fa92e",
   "metadata": {},
   "outputs": [
    {
     "ename": "ValueError",
     "evalue": "For each axis slice, the sum of the observed frequencies must agree with the sum of the expected frequencies to a relative tolerance of 1e-08, but the percent differences are:\n0.01763632677883641",
     "output_type": "error",
     "traceback": [
      "\u001b[1;31m---------------------------------------------------------------------------\u001b[0m",
      "\u001b[1;31mValueError\u001b[0m                                Traceback (most recent call last)",
      "\u001b[1;32m~\\AppData\\Local\\Temp\\ipykernel_2464\\936316383.py\u001b[0m in \u001b[0;36m?\u001b[1;34m()\u001b[0m\n\u001b[0;32m      7\u001b[0m \u001b[0mobserved_data\u001b[0m \u001b[1;33m=\u001b[0m \u001b[0mhsb2\u001b[0m\u001b[1;33m.\u001b[0m\u001b[0mChoice\u001b[0m\u001b[1;33m\u001b[0m\u001b[1;33m\u001b[0m\u001b[0m\n\u001b[0;32m      8\u001b[0m \u001b[0mexpected_data\u001b[0m \u001b[1;33m=\u001b[0m \u001b[0mhsb2\u001b[0m\u001b[1;33m.\u001b[0m\u001b[0mPredicted\u001b[0m\u001b[1;33m\u001b[0m\u001b[1;33m\u001b[0m\u001b[0m\n\u001b[0;32m      9\u001b[0m \u001b[1;33m\u001b[0m\u001b[0m\n\u001b[0;32m     10\u001b[0m \u001b[1;31m# Chi-Square Goodness of Fit Test\u001b[0m\u001b[1;33m\u001b[0m\u001b[1;33m\u001b[0m\u001b[0m\n\u001b[1;32m---> 11\u001b[1;33m chi_square_test_statistic, p_value = stats.chisquare( \n\u001b[0m\u001b[0;32m     12\u001b[0m     observed_data, expected_data) \n\u001b[0;32m     13\u001b[0m \u001b[1;33m\u001b[0m\u001b[0m\n\u001b[0;32m     14\u001b[0m \u001b[1;31m# chi square test statistic and p value\u001b[0m\u001b[1;33m\u001b[0m\u001b[1;33m\u001b[0m\u001b[0m\n",
      "\u001b[1;32m~\\anaconda3\\Lib\\site-packages\\scipy\\stats\\_stats_py.py\u001b[0m in \u001b[0;36m?\u001b[1;34m(f_obs, f_exp, ddof, axis)\u001b[0m\n\u001b[0;32m   8250\u001b[0m     ...           axis=1)\n\u001b[0;32m   8251\u001b[0m     \u001b[0mPower_divergenceResult\u001b[0m\u001b[1;33m(\u001b[0m\u001b[0mstatistic\u001b[0m\u001b[1;33m=\u001b[0m\u001b[0marray\u001b[0m\u001b[1;33m(\u001b[0m\u001b[1;33m[\u001b[0m\u001b[1;36m3.5\u001b[0m \u001b[1;33m,\u001b[0m \u001b[1;36m9.25\u001b[0m\u001b[1;33m]\u001b[0m\u001b[1;33m)\u001b[0m\u001b[1;33m,\u001b[0m \u001b[0mpvalue\u001b[0m\u001b[1;33m=\u001b[0m\u001b[0marray\u001b[0m\u001b[1;33m(\u001b[0m\u001b[1;33m[\u001b[0m\u001b[1;36m0.62338763\u001b[0m\u001b[1;33m,\u001b[0m \u001b[1;36m0.09949846\u001b[0m\u001b[1;33m]\u001b[0m\u001b[1;33m)\u001b[0m\u001b[1;33m)\u001b[0m\u001b[1;33m\u001b[0m\u001b[1;33m\u001b[0m\u001b[0m\n\u001b[0;32m   8252\u001b[0m \u001b[1;33m\u001b[0m\u001b[0m\n\u001b[0;32m   8253\u001b[0m     \"\"\"  # noqa\n\u001b[1;32m-> 8254\u001b[1;33m     return power_divergence(f_obs, f_exp=f_exp, ddof=ddof, axis=axis,\n\u001b[0m\u001b[0;32m   8255\u001b[0m                             lambda_=\"pearson\")\n",
      "\u001b[1;32m~\\anaconda3\\Lib\\site-packages\\scipy\\stats\\_stats_py.py\u001b[0m in \u001b[0;36m?\u001b[1;34m(f_obs, f_exp, ddof, axis, lambda_)\u001b[0m\n\u001b[0;32m   8047\u001b[0m                    \u001b[1;34mf\"frequencies must agree with the sum of the \"\u001b[0m\u001b[1;33m\u001b[0m\u001b[1;33m\u001b[0m\u001b[0m\n\u001b[0;32m   8048\u001b[0m                    \u001b[1;34mf\"expected frequencies to a relative tolerance \"\u001b[0m\u001b[1;33m\u001b[0m\u001b[1;33m\u001b[0m\u001b[0m\n\u001b[0;32m   8049\u001b[0m                    \u001b[1;34mf\"of {rtol}, but the percent differences are:\\n\"\u001b[0m\u001b[1;33m\u001b[0m\u001b[1;33m\u001b[0m\u001b[0m\n\u001b[0;32m   8050\u001b[0m                    f\"{relative_diff}\")\n\u001b[1;32m-> 8051\u001b[1;33m             \u001b[1;32mraise\u001b[0m \u001b[0mValueError\u001b[0m\u001b[1;33m(\u001b[0m\u001b[0mmsg\u001b[0m\u001b[1;33m)\u001b[0m\u001b[1;33m\u001b[0m\u001b[1;33m\u001b[0m\u001b[0m\n\u001b[0m\u001b[0;32m   8052\u001b[0m \u001b[1;33m\u001b[0m\u001b[0m\n\u001b[0;32m   8053\u001b[0m     \u001b[1;32melse\u001b[0m\u001b[1;33m:\u001b[0m\u001b[1;33m\u001b[0m\u001b[1;33m\u001b[0m\u001b[0m\n\u001b[0;32m   8054\u001b[0m         \u001b[1;31m# Ignore 'invalid' errors so the edge case of a data set with length 0\u001b[0m\u001b[1;33m\u001b[0m\u001b[1;33m\u001b[0m\u001b[0m\n",
      "\u001b[1;31mValueError\u001b[0m: For each axis slice, the sum of the observed frequencies must agree with the sum of the expected frequencies to a relative tolerance of 1e-08, but the percent differences are:\n0.01763632677883641"
     ]
    }
   ],
   "source": [
    "# importing packages\n",
    "import scipy.stats as stats \n",
    "import numpy as np \n",
    "  \n",
    "# no of hours a student studies \n",
    "# in a week vs expected no of hours \n",
    "observed_data = hsb2.Choice\n",
    "expected_data = hsb2.Predicted \n",
    "  \n",
    "# Chi-Square Goodness of Fit Test \n",
    "chi_square_test_statistic, p_value = stats.chisquare( \n",
    "    observed_data, expected_data) \n",
    "  \n",
    "# chi square test statistic and p value \n",
    "print('chi_square_test_statistic is : ' +\n",
    "      str(chi_square_test_statistic))  # Corrected the print statement\n",
    "  \n",
    "# importing packages \n",
    "import scipy.stats as stats \n",
    "import numpy as np \n",
    "  \n",
    "# no of hours a student studies \n",
    "# in a week vs expected no of hours \n",
    "observed_data = hsb2.Choice\n",
    "expected_data = hsb2.Predicted \n",
    "  \n",
    "  \n",
    "# Chi-Square Goodness of Fit Test \n",
    "chi_square_test_statistic, p_value = stats.chisquare( \n",
    "    observed_data, expected_data) \n",
    "  \n",
    "# chi square test statistic and p value \n",
    "print('chi_square_test_statistic is : ' +\n",
    "      str(chi_square_test_statistic)) \n",
    "print('p_value : ' + str(p_value)) \n",
    "  \n",
    "  \n",
    "# find Chi-Square critical value \n",
    "print(stats.chi2.ppf(1-0.05, df=3))  # Corrected the print statement\n"
   ]
  },
  {
   "cell_type": "code",
   "execution_count": 42,
   "id": "e0111ce6",
   "metadata": {},
   "outputs": [
    {
     "name": "stdout",
     "output_type": "stream",
     "text": [
      "0\n"
     ]
    }
   ],
   "source": [
    "print(len(hsb2.Choice)-len(hsb2.Predicted))"
   ]
  },
  {
   "cell_type": "code",
   "execution_count": 46,
   "id": "0e0aebae",
   "metadata": {},
   "outputs": [
    {
     "name": "stdout",
     "output_type": "stream",
     "text": [
      "      const  Gap  RelativeSpeed TW\n",
      "0       1.0   12              0  0\n",
      "1       1.0   16              2  1\n",
      "2       1.0   15              1  1\n",
      "3       1.0   15              0  1\n",
      "4       1.0   12              0  0\n",
      "...     ...  ...            ... ..\n",
      "2395    1.0   13              1  1\n",
      "2396    1.0   13              1  1\n",
      "2397    1.0   13              0  1\n",
      "2398    1.0   15              3  1\n",
      "2399    1.0   15              4  1\n",
      "\n",
      "[2400 rows x 4 columns]\n"
     ]
    }
   ],
   "source": [
    "X = sm.add_constant(X)\n"
   ]
  },
  {
   "cell_type": "code",
   "execution_count": 47,
   "id": "52e2d34a",
   "metadata": {},
   "outputs": [
    {
     "name": "stdout",
     "output_type": "stream",
     "text": [
      "Optimization terminated successfully.\n",
      "         Current function value: 0.863698\n",
      "         Iterations 6\n",
      "Optimization terminated successfully.\n",
      "         Current function value: 0.984104\n",
      "         Iterations 6\n",
      "Rho-squared:  0.1223504172765787\n"
     ]
    }
   ],
   "source": [
    "import pandas as pd\n",
    "import numpy as np\n",
    "import statsmodels.api as sm\n",
    "from statsmodels.discrete.discrete_model import MNLogit\n",
    "\n",
    "\n",
    "\n",
    "X = sm.add_constant(X)\n",
    "\n",
    "\n",
    "\n",
    "# Fit the multinomial logistic regression model\n",
    "model = MNLogit(y, X)\n",
    "result = model.fit()\n",
    "\n",
    "# Get the log-likelihood of the fitted model\n",
    "log_likelihood_fitted = result.llf\n",
    "\n",
    "# Get the log-likelihood of the null model\n",
    "# Null model is the model with only the intercept\n",
    "X_null = sm.add_constant(pd.DataFrame({'intercept': np.ones(len(y))}))\n",
    "null_model = MNLogit(y, X_null)\n",
    "null_result = null_model.fit()\n",
    "log_likelihood_null = null_result.llf\n",
    "\n",
    "# Calculate the rho-squared statistic\n",
    "rho_squared = 1 - (log_likelihood_fitted / log_likelihood_null)\n",
    "print('Rho-squared: ', rho_squared)\n"
   ]
  },
  {
   "cell_type": "code",
   "execution_count": 49,
   "id": "5c9cd561",
   "metadata": {},
   "outputs": [
    {
     "name": "stdout",
     "output_type": "stream",
     "text": [
      "Optimization terminated successfully.\n",
      "         Current function value: 0.863698\n",
      "         Iterations 6\n",
      "                          MNLogit Regression Results                          \n",
      "==============================================================================\n",
      "Dep. Variable:                 Choice   No. Observations:                 2400\n",
      "Model:                        MNLogit   Df Residuals:                     2392\n",
      "Method:                           MLE   Df Model:                            6\n",
      "Date:                Thu, 06 Jun 2024   Pseudo R-squ.:                  0.1224\n",
      "Time:                        21:51:09   Log-Likelihood:                -2072.9\n",
      "converged:                       True   LL-Null:                       -2361.8\n",
      "Covariance Type:            nonrobust   LLR p-value:                1.331e-121\n",
      "=================================================================================\n",
      "     Choice=2       coef    std err          z      P>|z|      [0.025      0.975]\n",
      "---------------------------------------------------------------------------------\n",
      "const            -2.6055      0.604     -4.311      0.000      -3.790      -1.421\n",
      "Gap               0.1093      0.040      2.726      0.006       0.031       0.188\n",
      "RelativeSpeed     0.1293      0.043      2.985      0.003       0.044       0.214\n",
      "TW               -0.1025      0.137     -0.747      0.455      -0.371       0.166\n",
      "---------------------------------------------------------------------------------\n",
      "     Choice=3       coef    std err          z      P>|z|      [0.025      0.975]\n",
      "---------------------------------------------------------------------------------\n",
      "const            -3.8349      0.469     -8.174      0.000      -4.754      -2.915\n",
      "Gap               0.2791      0.031      9.035      0.000       0.219       0.340\n",
      "RelativeSpeed     0.4945      0.036     13.565      0.000       0.423       0.566\n",
      "TW               -0.3703      0.104     -3.567      0.000      -0.574      -0.167\n",
      "=================================================================================\n"
     ]
    }
   ],
   "source": [
    "# Example dataset\n",
    "\n",
    "# Adding a constant to the model (intercept)\n",
    "X = sm.add_constant(X)\n",
    "\n",
    "# Fitting the MNLogit model\n",
    "model = sm.MNLogit(y, X)\n",
    "result = model.fit()\n",
    "\n",
    "# Display the summary of the model\n",
    "print(result.summary())\n"
   ]
  },
  {
   "cell_type": "code",
   "execution_count": 50,
   "id": "95c9d40a",
   "metadata": {},
   "outputs": [],
   "source": [
    "model = LogisticRegression(random_state=0, multi_class='multinomial', solver='newton-cg')"
   ]
  },
  {
   "cell_type": "code",
   "execution_count": null,
   "id": "b81ef3c9",
   "metadata": {},
   "outputs": [],
   "source": [
    "result = model.fit(X, y)"
   ]
  }
 ],
 "metadata": {
  "kernelspec": {
   "display_name": "Python 3 (ipykernel)",
   "language": "python",
   "name": "python3"
  },
  "language_info": {
   "codemirror_mode": {
    "name": "ipython",
    "version": 3
   },
   "file_extension": ".py",
   "mimetype": "text/x-python",
   "name": "python",
   "nbconvert_exporter": "python",
   "pygments_lexer": "ipython3",
   "version": "3.12.4"
  }
 },
 "nbformat": 4,
 "nbformat_minor": 5
}
