{
 "cells": [
  {
   "cell_type": "code",
   "execution_count": 2,
   "id": "42f109fa",
   "metadata": {},
   "outputs": [
    {
     "name": "stdout",
     "output_type": "stream",
     "text": [
      "[0 2 0 2 1 0 0 2 1 2 2 1 0 0 2 1 1 0 0 2 0 1 2 2 1 0 0 1 0 0 2 0 0 1 1 1 1\n",
      " 1 1 2 0 2 0 1 0 2 0 0 1 2 1 1 1 0 0 2 0 0 2 1 2 2 0 2 2 0 2 1 0 1 2 1 1 0\n",
      " 1 1 1 2 0 1 1 0 1 2 0 1 2 1 2 1 2 1 2 2 2 2 0 2 2 2]\n",
      "Optimization terminated successfully.\n",
      "         Current function value: 0.566174\n",
      "         Iterations 6\n",
      "            const        x1        x2        x3\n",
      "Class_0 -0.716721 -2.041877 -0.615235  2.240458\n",
      "Class_1 -0.716721 -2.041877 -0.615235  2.240458\n",
      "Class_2 -0.716721 -2.041877 -0.615235  2.240458\n"
     ]
    }
   ],
   "source": [
    "import statsmodels.api as sm\n",
    "import numpy as np\n",
    "import pandas as pd\n",
    "\n",
    "# Example data\n",
    "np.random.seed(0)\n",
    "n = 100\n",
    "k = 3  # Number of categories\n",
    "X = np.random.rand(n, 3)\n",
    "X = sm.add_constant(X)  # Add intercept\n",
    "y = np.random.choice(k, n)\n",
    "print(y)\n",
    "# Create a DataFrame for convenience\n",
    "data = pd.DataFrame(X, columns=['const', 'x1', 'x2', 'x3'])\n",
    "data['y'] = y\n",
    "\n",
    "# Fit a binary logistic regression model for one category vs. all others\n",
    "# For example, we use category 0\n",
    "binary_y = (data['y'] == 0).astype(int)\n",
    "\n",
    "# Fit the binary logistic regression model\n",
    "binary_logit_model = sm.Logit(binary_y, data[['const', 'x1', 'x2', 'x3']])\n",
    "binary_result = binary_logit_model.fit()\n",
    "\n",
    "# Extract coefficients\n",
    "coefficients = binary_result.params\n",
    "\n",
    "# Use the same coefficients for all categories\n",
    "coefficients_df = pd.DataFrame([coefficients.values] * k, columns=coefficients.index)\n",
    "coefficients_df.index = [f'Class_{i}' for i in range(k)]\n",
    "\n",
    "# Display the coefficients\n",
    "print(coefficients_df)\n"
   ]
  },
  {
   "cell_type": "code",
   "execution_count": null,
   "id": "7ad06f23",
   "metadata": {},
   "outputs": [],
   "source": []
  }
 ],
 "metadata": {
  "kernelspec": {
   "display_name": "Python 3 (ipykernel)",
   "language": "python",
   "name": "python3"
  },
  "language_info": {
   "codemirror_mode": {
    "name": "ipython",
    "version": 3
   },
   "file_extension": ".py",
   "mimetype": "text/x-python",
   "name": "python",
   "nbconvert_exporter": "python",
   "pygments_lexer": "ipython3",
   "version": "3.11.5"
  }
 },
 "nbformat": 4,
 "nbformat_minor": 5
}
